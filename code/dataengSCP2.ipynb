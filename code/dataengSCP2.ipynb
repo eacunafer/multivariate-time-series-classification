{
 "cells": [
  {
   "cell_type": "markdown",
   "id": "557b8dd9",
   "metadata": {},
   "source": [
    "## Algorithm: Transformers including data engineering\n",
    "#### Dataset: SelfRegulationSCP2\n",
    "#### Author: Edgar Acuna\n",
    "#### Created:  Augist 20, 2024."
   ]
  },
  {
   "cell_type": "code",
   "execution_count": null,
   "id": "dce2999c",
   "metadata": {},
   "outputs": [],
   "source": [
    "# cnn lstm model\n",
    "import numpy as np\n",
    "from numpy import mean\n",
    "from numpy import std, unique\n",
    "from numpy import dstack\n",
    "from pandas import read_csv\n",
    "from sklearn.model_selection import train_test_split\n",
    "from matplotlib import pyplot\n",
    " "
   ]
  },
  {
   "cell_type": "code",
   "execution_count": null,
   "id": "4b8fdaa8",
   "metadata": {},
   "outputs": [],
   "source": [
    "import pandas as pd\n",
    "from aeon.datasets import load_classification\n",
    "from sklearn import preprocessing\n",
    "\n",
    "import pandas as pd\n",
    "from aeon.datasets import load_classification\n",
    "from sklearn import preprocessing\n",
    "\n",
    "def load_data(dataset, split=\"Train\"):\n",
    "    if split==\"Train\":\n",
    "        X, y = load_classification(dataset, split=\"Train\")\n",
    "    else:\n",
    "        X, y = load_classification(dataset, split=\"Test\")\n",
    "    print(\" Shape of X = \", X.shape)\n",
    "    print(\" Shape of y = \", y.shape)\n",
    "    #Swap dimensions so features are the third dimension\n",
    "    X = X.swapaxes(1, 2)\n",
    "    print(\" New shape of X = \", X.shape)\n",
    "    #prepare y\n",
    "    y = pd.DataFrame(y)\n",
    "    enc = preprocessing.OneHotEncoder(dtype=int)\n",
    "    enc.fit(y)\n",
    "    y = enc.transform(y).toarray()\n",
    "    print(\" New shape of y = \", y.shape)\n",
    "    return X, y\n"
   ]
  },
  {
   "cell_type": "code",
   "execution_count": null,
   "id": "97c7ec29",
   "metadata": {},
   "outputs": [],
   "source": [
    "# loading Training data\n",
    "X, y = load_data(\"SelfRegulationSCP2\",split=\"Train\")"
   ]
  },
  {
   "cell_type": "code",
   "execution_count": null,
   "id": "45b3402b",
   "metadata": {},
   "outputs": [],
   "source": [
    "#class size in training \n",
    "import numpy as np\n",
    "np.sum(y,axis=0)"
   ]
  },
  {
   "cell_type": "code",
   "execution_count": null,
   "id": "6556bba3",
   "metadata": {},
   "outputs": [],
   "source": [
    "import numpy as np\n",
    "yo=np.argmax(y,axis=1)\n",
    "yo=np.array(yo,dtype=int)\n",
    "#print(yo)"
   ]
  },
  {
   "cell_type": "code",
   "execution_count": null,
   "id": "085b22b4",
   "metadata": {},
   "outputs": [],
   "source": [
    "X1=X[yo==0]\n",
    "X2=X[yo==1]"
   ]
  },
  {
   "cell_type": "code",
   "execution_count": null,
   "id": "2e3ed141",
   "metadata": {},
   "outputs": [],
   "source": [
    "Xa1=X1.mean(axis=0).T\n",
    "Xa1=pd.DataFrame(Xa1)\n",
    "Xa2=X2.mean(axis=0).T\n",
    "Xa2=pd.DataFrame(Xa2)\n",
    "print(Xa2.shape)"
   ]
  },
  {
   "cell_type": "code",
   "execution_count": null,
   "id": "714a3717",
   "metadata": {},
   "outputs": [],
   "source": [
    "import matplotlib.pyplot as plt\n",
    "%matplotlib inline\n",
    "fig, ax = plt.subplots(figsize=(20,10))\n",
    "ejex=range(0,1152,16)\n",
    "fig.suptitle(\"Fig. Plot of mean values by channel in each group-SCP2 training dataset\",fontsize=16)\n",
    "ax.plot(ejex, Xa1.iloc[0,ejex], color='black',lw=5, label='G1')\n",
    "ax.plot(ejex,Xa1.iloc[1,ejex], color='red', lw=5, label='G1')\n",
    "ax.plot(ejex, Xa1.iloc[2,ejex], color='blue', lw=5, label='G1')\n",
    "ax.plot(ejex, Xa1.iloc[3,ejex], color='green',lw=5,  label='G1')\n",
    "ax.plot(ejex,Xa1.iloc[4,ejex], color='cyan', lw=5, label='G1')\n",
    "ax.plot(ejex, Xa1.iloc[5,ejex], color='magenta', lw=3,  label='G1')\n",
    "ax.plot(ejex, Xa1.iloc[6,ejex], color='yellow', lw=3, label='G1')\n",
    "ax.plot(ejex, Xa2.iloc[0,ejex], color='black',lw=3, label='G2')\n",
    "ax.plot(ejex,Xa2.iloc[1,ejex], color='red', lw=3, label='G2')\n",
    "ax.plot(ejex, Xa2.iloc[2,ejex], color='blue', lw=3, label='G2')\n",
    "ax.plot(ejex, Xa2.iloc[3,ejex], color='green',lw=3,  label='G2')\n",
    "ax.plot(ejex,Xa2.iloc[4,ejex], color='cyan', lw=3, label='G2')\n",
    "ax.plot(ejex, Xa2.iloc[5,ejex], color='magenta', lw=3, label='G2')\n",
    "ax.plot(ejex, Xa2.iloc[6,ejex], color='yellow', lw=3, label='G2')\n",
    "ax.legend(loc='best', frameon=False)"
   ]
  },
  {
   "cell_type": "code",
   "execution_count": null,
   "id": "9349f924",
   "metadata": {},
   "outputs": [],
   "source": [
    "#boxplot of the features in the training set\n",
    "np.sum(y,axis=0)\n",
    "tempotr=X.reshape(X.shape[2],-1).T\n",
    "tempotr=pd.DataFrame(tempotr)\n",
    "pyplot.boxplot(tempotr)\n",
    "pyplot.show()"
   ]
  },
  {
   "cell_type": "code",
   "execution_count": null,
   "id": "d72b4ddf",
   "metadata": {},
   "outputs": [],
   "source": [
    "# loading Testing data\n",
    "Xt, yt = load_data(\"SelfRegulationSCP2\",split=\"Test\")"
   ]
  },
  {
   "cell_type": "code",
   "execution_count": null,
   "id": "5484a4df",
   "metadata": {},
   "outputs": [],
   "source": [
    "#class size in testing\n",
    "import numpy as np\n",
    "np.sum(yt,axis=0)"
   ]
  },
  {
   "cell_type": "code",
   "execution_count": null,
   "id": "df1fd820",
   "metadata": {},
   "outputs": [],
   "source": [
    "a=np.sum(yt,axis=0)\n",
    "np.max(a/Xt.shape[0])"
   ]
  },
  {
   "cell_type": "code",
   "execution_count": null,
   "id": "683a98b5",
   "metadata": {},
   "outputs": [],
   "source": [
    "#Boxplot of the features in the testing dataset\n",
    "tempote=Xt.reshape(Xt.shape[2],-1).T\n",
    "tempote=pd.DataFrame(tempote)\n",
    "pyplot.boxplot(tempote)\n",
    "pyplot.show()"
   ]
  },
  {
   "cell_type": "code",
   "execution_count": null,
   "id": "05985bb3",
   "metadata": {},
   "outputs": [],
   "source": [
    "tempotr.describe()"
   ]
  },
  {
   "cell_type": "markdown",
   "id": "d3afc3f6",
   "metadata": {},
   "source": [
    "### The features are not so relevant, since the mean values by group are quite similar. "
   ]
  },
  {
   "cell_type": "code",
   "execution_count": null,
   "id": "313fff60",
   "metadata": {},
   "outputs": [],
   "source": [
    "tempote.describe()"
   ]
  },
  {
   "cell_type": "code",
   "execution_count": null,
   "id": "f819ed12",
   "metadata": {},
   "outputs": [],
   "source": [
    "import numpy as np\n",
    "yo=np.argmax(y,axis=1)\n",
    "yo=np.array(yo,dtype=int)\n",
    "#print(yo)"
   ]
  },
  {
   "cell_type": "code",
   "execution_count": null,
   "id": "7eeadda9",
   "metadata": {},
   "outputs": [],
   "source": [
    "#Boxplots of each feature in the groups pf the training dataset\n",
    "temptr=pd.DataFrame(tempotr)\n",
    "from itertools import cycle\n",
    "variables= cycle(yo)\n",
    "print(variables)\n",
    "temptr['group'] = [next(variables) for variable in range(len(temptr))]\n",
    "#Bboxplot  of features by class\n",
    "temptr.boxplot(by='group')"
   ]
  },
  {
   "cell_type": "code",
   "execution_count": null,
   "id": "a0626eaa",
   "metadata": {},
   "outputs": [],
   "source": [
    "temptr.groupby('group').mean()"
   ]
  },
  {
   "cell_type": "markdown",
   "id": "a3246693",
   "metadata": {},
   "source": [
    "### Distances"
   ]
  },
  {
   "cell_type": "code",
   "execution_count": null,
   "id": "4aea1587",
   "metadata": {},
   "outputs": [],
   "source": [
    "#Distance between the features in the two groups of the treining\n",
    "means=temptr.groupby('group').mean()\n",
    "from scipy.spatial.distance import pdist, squareform\n",
    "\n",
    "distances = pdist(means, metric='euclidean')\n",
    "distances"
   ]
  },
  {
   "cell_type": "code",
   "execution_count": null,
   "id": "d0cbc248",
   "metadata": {},
   "outputs": [],
   "source": [
    "tempoA=X.reshape(X.shape[1],-1).T\n",
    "print(tempoA.shape)"
   ]
  },
  {
   "cell_type": "code",
   "execution_count": null,
   "id": "63d82736",
   "metadata": {},
   "outputs": [],
   "source": [
    "#media total training\n",
    "meanTr=tempoA.mean(axis=0)\n",
    "meanTr.shape"
   ]
  },
  {
   "cell_type": "code",
   "execution_count": null,
   "id": "6864091f",
   "metadata": {},
   "outputs": [],
   "source": [
    "tempoB=pd.DataFrame(tempoA)\n",
    "from itertools import cycle\n",
    "variables= cycle(yo)\n",
    "print(variables)\n",
    "tempoB['group'] = [next(variables) for variable in range(len(tempoB))]\n",
    "#Bboxplot  of features by class\n",
    "a=tempoB.groupby('group').mean()"
   ]
  },
  {
   "cell_type": "code",
   "execution_count": null,
   "id": "c4ad4af1",
   "metadata": {},
   "outputs": [],
   "source": [
    "import matplotlib.pyplot as plt\n",
    "%matplotlib inline\n",
    "fig, ax = plt.subplots(figsize=(20,10))\n",
    "ejex=range(0,1152,16)\n",
    "fig.suptitle(\"Fig. Plot of mean values of all time series by group-SCP2 training dataset\",fontsize=16)\n",
    "ax.plot(ejex, a.iloc[0,ejex], color='red',lw=5, label='G1')\n",
    "ax.plot(ejex,a.iloc[1,ejex], color='blue', lw=5, label='G2')\n",
    "ax.legend(loc='best', frameon=False)"
   ]
  },
  {
   "cell_type": "markdown",
   "id": "a03d6c60",
   "metadata": {},
   "source": [
    "### Feature Selection"
   ]
  },
  {
   "cell_type": "code",
   "execution_count": null,
   "id": "5a6fbec8",
   "metadata": {},
   "outputs": [],
   "source": [
    "#Feature selection\n",
    "from sklearn.feature_selection import  mutual_info_classif, SelectPercentile, f_classif\n",
    "ym=tempoB['group']\n",
    "Xm=tempoB.iloc[:,0:1152]\n",
    "scores = mutual_info_classif(Xm,ym)\n",
    "#scores /= scores.max()\n",
    "importance=[i for i,v in enumerate(scores) if v > .5]\n",
    "len(importance)*100/1152"
   ]
  },
  {
   "cell_type": "code",
   "execution_count": null,
   "id": "75323930",
   "metadata": {},
   "outputs": [],
   "source": [
    "selector = SelectPercentile(f_classif, percentile=30)\n",
    "Xm_new=selector.fit_transform(Xm, ym)\n",
    "scores = -np.log10(selector.pvalues_)\n",
    "#scores /= scores.max()\n",
    "#print(scores)\n",
    "#critical p-value=.10\n",
    "importance=[i for i,v in enumerate(scores) if v > 1]\n",
    "len(importance)*100/1152"
   ]
  },
  {
   "cell_type": "code",
   "execution_count": null,
   "id": "3f9787f6",
   "metadata": {},
   "outputs": [],
   "source": [
    "tempote.describe()"
   ]
  },
  {
   "cell_type": "code",
   "execution_count": null,
   "id": "256069aa",
   "metadata": {},
   "outputs": [],
   "source": [
    "import numpy as np\n",
    "yot=np.argmax(yt,axis=1)\n",
    "yot=np.array(yot,dtype=int)"
   ]
  },
  {
   "cell_type": "code",
   "execution_count": null,
   "id": "326b5cb0",
   "metadata": {},
   "outputs": [],
   "source": [
    "#Boxplots of each feature in the groups pf the testing dataset\n",
    "tempte=pd.DataFrame(tempote)\n",
    "from itertools import cycle\n",
    "variables= cycle(yot)\n",
    "print(variables)\n",
    "tempte['group'] = [next(variables) for variable in range(len(tempte))]\n",
    "#Bboxplot  of features by class\n",
    "tempte.boxplot(by='group')"
   ]
  },
  {
   "cell_type": "code",
   "execution_count": null,
   "id": "a3ac17a6",
   "metadata": {},
   "outputs": [],
   "source": [
    "import numpy as np\n",
    "Xb= np.concatenate((X, Xt),axis=0)\n",
    "print(Xb.shape)"
   ]
  },
  {
   "cell_type": "code",
   "execution_count": null,
   "id": "e20b1f06",
   "metadata": {},
   "outputs": [],
   "source": [
    "from sklearn.preprocessing import StandardScaler\n",
    "scaler = StandardScaler()\n",
    "#print(tempo.shape)\n",
    "X = scaler.fit_transform(X.reshape(X.shape[2], -1)).reshape(X.shape)\n",
    "Xt = scaler.fit_transform(Xt.reshape(Xt.shape[2], -1)).reshape(Xt.shape)\n",
    "Xb = scaler.fit_transform(Xb.reshape(Xb.shape[2], -1)).reshape(Xb.shape)\n",
    "X1 = X.reshape(X.shape[2],-1).T\n",
    "#print(X)\n",
    "tempodf=pd.DataFrame(X1)\n",
    "print(tempodf.shape)\n",
    "pyplot.boxplot(tempodf)\n",
    "pyplot.show()"
   ]
  },
  {
   "cell_type": "code",
   "execution_count": null,
   "id": "721e6004",
   "metadata": {},
   "outputs": [],
   "source": [
    "tempoA1=Xt.reshape(Xt.shape[1],-1).T\n",
    "print(tempoA1.shape)"
   ]
  },
  {
   "cell_type": "code",
   "execution_count": null,
   "id": "537dfde8",
   "metadata": {},
   "outputs": [],
   "source": [
    "#media total testung\n",
    "meanTe=tempoA1.mean(axis=0)\n",
    "meanTe.shape"
   ]
  },
  {
   "cell_type": "code",
   "execution_count": null,
   "id": "4c2d9190",
   "metadata": {},
   "outputs": [],
   "source": [
    "#Distance Training and Testsing\n",
    "from scipy.spatial import distance\n",
    "dst = distance.euclidean(meanTr, meanTe)\n",
    "dst"
   ]
  },
  {
   "cell_type": "code",
   "execution_count": null,
   "id": "81460441",
   "metadata": {},
   "outputs": [],
   "source": [
    "#Dickey-Fuller Test\n",
    "from statsmodels.tsa.stattools import adfuller\n",
    "Xest = tempoB.iloc[150,0:1152]\n",
    "result = adfuller(Xest)\n",
    "print('ADF Statistic: %f' % result[0])\n",
    "print('p-value: %f' % result[1])\n",
    "print('Critical Values:')\n",
    "for key, value in result[4].items():\n",
    "\tprint('\\t%s: %.3f' % (key, value))"
   ]
  },
  {
   "cell_type": "code",
   "execution_count": null,
   "id": "30b03ef2",
   "metadata": {},
   "outputs": [],
   "source": [
    "sm.graphics.tsa.plot_acf(Xest, alpha=.05)"
   ]
  }
 ],
 "metadata": {
  "kernelspec": {
   "display_name": "Python 3 (ipykernel)",
   "language": "python",
   "name": "python3"
  },
  "language_info": {
   "codemirror_mode": {
    "name": "ipython",
    "version": 3
   },
   "file_extension": ".py",
   "mimetype": "text/x-python",
   "name": "python",
   "nbconvert_exporter": "python",
   "pygments_lexer": "ipython3",
   "version": "3.10.9"
  }
 },
 "nbformat": 4,
 "nbformat_minor": 5
}
