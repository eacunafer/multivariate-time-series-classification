{
 "cells": [
  {
   "cell_type": "markdown",
   "id": "5b0f769b",
   "metadata": {
    "id": "5b0f769b"
   },
   "source": [
    "### Algorithm: CNN-LSTM including normalization\n",
    "### Created: July 31, 2024\n",
    "### Dataset : Ethanol\n",
    "### Authors: Edgar Acuna and Roxana Aparicio\n"
   ]
  },
  {
   "cell_type": "code",
   "execution_count": 27,
   "id": "d8a16dfa",
   "metadata": {
    "id": "d8a16dfa"
   },
   "outputs": [],
   "source": [
    "# cnn lstm model\n",
    "from numpy import mean\n",
    "from numpy import std, unique\n",
    "from numpy import dstack\n",
    "from pandas import read_csv\n",
    "#from keras.models import Sequential\n",
    "##from keras.layers import Dense\n",
    "#from keras.layers import Flatten\n",
    "#from keras.layers import Dropout\n",
    "#from keras.layers import LSTM\n",
    "#from keras.layers import TimeDistributed\n",
    "#from keras.layers.convolutional import Conv1D\n",
    "#from keras.layers.convolutional import MaxPooling1D\n",
    "#from keras.utils import to_categorical\n",
    "from matplotlib import pyplot\n",
    "\n",
    "from sklearn.model_selection import train_test_split\n",
    "from sklearn.metrics import classification_report, confusion_matrix, f1_score, precision_score, roc_auc_score, ConfusionMatrixDisplay\n",
    "import tensorflow.keras.layers as layers\n",
    "import keras\n",
    "from numpy import mean\n",
    "from numpy import std, unique\n",
    "from numpy import dstack\n",
    "from pandas import read_csv\n",
    "#from keras.layers import TimeDistributed\n",
    "from tensorflow.keras.models import Sequential\n",
    "from tensorflow.keras.layers import Dense, Flatten, Dropout, Conv1D, MaxPooling1D, LSTM, TimeDistributed\n",
    "from tensorflow.keras.utils import to_categorical\n",
    "from sklearn.model_selection import train_test_split\n",
    "from sklearn.metrics import classification_report, confusion_matrix\n",
    "from keras.utils import to_categorical\n",
    "\n",
    "# load a single file as a numpy array\n",
    "#def load_file(filepath):\n",
    "#    dataframe = read_csv(filepath, header=None)\n",
    "#    return dataframe.values"
   ]
  },
  {
   "cell_type": "code",
   "execution_count": 28,
   "id": "18d4a94d",
   "metadata": {},
   "outputs": [],
   "source": [
    "import pandas as pd\n",
    "from aeon.datasets import load_classification\n",
    "from sklearn import preprocessing\n",
    "\n",
    "import pandas as pd\n",
    "from aeon.datasets import load_classification\n",
    "from sklearn import preprocessing\n",
    "\n",
    "def load_data(dataset, split=\"Train\"):\n",
    "    if split==\"Train\":\n",
    "        X, y, meta_data = load_classification(dataset, split=\"Train\")\n",
    "    else:\n",
    "        X, y, meta_data = load_classification(dataset, split=\"Test\")\n",
    "    print(\" Shape of X = \", X.shape)\n",
    "    print(\" Shape of y = \", y.shape)\n",
    "    #Swap dimensions so features are the third dimension\n",
    "    X = X.swapaxes(1, 2)\n",
    "    print(\" New shape of X = \", X.shape)\n",
    "    #prepare y\n",
    "    y = pd.DataFrame(y)\n",
    "    enc = preprocessing.OneHotEncoder(dtype=int)\n",
    "    enc.fit(y)\n",
    "    y = enc.transform(y).toarray()\n",
    "    print(\" New shape of y = \", y.shape)\n",
    "    return X, y\n"
   ]
  },
  {
   "cell_type": "code",
   "execution_count": 29,
   "id": "ecadd3b8",
   "metadata": {},
   "outputs": [
    {
     "name": "stdout",
     "output_type": "stream",
     "text": [
      " Shape of X =  (261, 3, 1751)\n",
      " Shape of y =  (261,)\n",
      " New shape of X =  (261, 1751, 3)\n",
      " New shape of y =  (261, 4)\n"
     ]
    },
    {
     "data": {
      "text/html": [
       "<div>\n",
       "<style scoped>\n",
       "    .dataframe tbody tr th:only-of-type {\n",
       "        vertical-align: middle;\n",
       "    }\n",
       "\n",
       "    .dataframe tbody tr th {\n",
       "        vertical-align: top;\n",
       "    }\n",
       "\n",
       "    .dataframe thead th {\n",
       "        text-align: right;\n",
       "    }\n",
       "</style>\n",
       "<table border=\"1\" class=\"dataframe\">\n",
       "  <thead>\n",
       "    <tr style=\"text-align: right;\">\n",
       "      <th></th>\n",
       "      <th>0</th>\n",
       "      <th>1</th>\n",
       "      <th>2</th>\n",
       "      <th>3</th>\n",
       "    </tr>\n",
       "  </thead>\n",
       "  <tbody>\n",
       "    <tr>\n",
       "      <th>0</th>\n",
       "      <td>196</td>\n",
       "      <td>196</td>\n",
       "      <td>195</td>\n",
       "      <td>196</td>\n",
       "    </tr>\n",
       "    <tr>\n",
       "      <th>1</th>\n",
       "      <td>65</td>\n",
       "      <td>65</td>\n",
       "      <td>66</td>\n",
       "      <td>65</td>\n",
       "    </tr>\n",
       "  </tbody>\n",
       "</table>\n",
       "</div>"
      ],
      "text/plain": [
       "     0    1    2    3\n",
       "0  196  196  195  196\n",
       "1   65   65   66   65"
      ]
     },
     "execution_count": 29,
     "metadata": {},
     "output_type": "execute_result"
    }
   ],
   "source": [
    "# loading Training data\n",
    "X, y = load_data(\"EthanolConcentration\",split=\"Train\")\n",
    "#print(y.shape[1])\n",
    "df=pd.DataFrame(y)\n",
    "df.apply(pd.value_counts)"
   ]
  },
  {
   "cell_type": "code",
   "execution_count": 30,
   "id": "b0361a2e",
   "metadata": {},
   "outputs": [
    {
     "name": "stdout",
     "output_type": "stream",
     "text": [
      " Shape of X =  (263, 3, 1751)\n",
      " Shape of y =  (263,)\n",
      " New shape of X =  (263, 1751, 3)\n",
      " New shape of y =  (263, 4)\n"
     ]
    }
   ],
   "source": [
    "# loading Testing data\n",
    "Xt, yt = load_data(\"EthanolConcentration\",split=\"Test\")"
   ]
  },
  {
   "cell_type": "code",
   "execution_count": 31,
   "id": "b8fccd9d",
   "metadata": {},
   "outputs": [
    {
     "name": "stdout",
     "output_type": "stream",
     "text": [
      "(524, 1751, 3)\n"
     ]
    }
   ],
   "source": [
    "import numpy as np\n",
    "Xb= np.concatenate((X, Xt),axis=0)\n",
    "print(Xb.shape)"
   ]
  },
  {
   "cell_type": "code",
   "execution_count": 32,
   "id": "e931a21f",
   "metadata": {},
   "outputs": [
    {
     "name": "stdout",
     "output_type": "stream",
     "text": [
      "(457011, 3)\n"
     ]
    },
    {
     "data": {
      "image/png": "[encoded data removed]",
      "text/plain": [
       "<Figure size 640x480 with 1 Axes>"
      ]
     },
     "metadata": {},
     "output_type": "display_data"
    }
   ],
   "source": [
    "from sklearn.preprocessing import StandardScaler\n",
    "scaler = StandardScaler()\n",
    "tempo=X.reshape(X.shape[2],-1).T\n",
    "#print(tempo.shape)\n",
    "X = scaler.fit_transform(X.reshape(X.shape[2], -1)).reshape(X.shape)\n",
    "Xb = scaler.fit_transform(Xb.reshape(Xb.shape[2], -1)).reshape(Xb.shape)\n",
    "Xt = scaler.fit_transform(Xt.reshape(Xt.shape[2], -1)).reshape(Xt.shape)\n",
    "X1 = scaler.fit_transform(tempo)\n",
    "#print(X)\n",
    "tempodf=pd.DataFrame(X1)\n",
    "print(tempodf.shape)\n",
    "pyplot.boxplot(tempodf)\n",
    "pyplot.show()"
   ]
  },
  {
   "cell_type": "code",
   "execution_count": 33,
   "id": "6c04fe1e",
   "metadata": {},
   "outputs": [
    {
     "name": "stdout",
     "output_type": "stream",
     "text": [
      "(261, 1751, 3)\n",
      "(263, 1751, 3)\n"
     ]
    }
   ],
   "source": [
    "Xn1=Xb[0:261]\n",
    "print(Xn1.shape)\n",
    "Xn2=Xb[261:524]\n",
    "print(Xn2.shape)"
   ]
  },
  {
   "cell_type": "code",
   "execution_count": 34,
   "id": "cVU3x0g5GLhi",
   "metadata": {
    "colab": {
     "base_uri": "https://localhost:8080/"
    },
    "id": "cVU3x0g5GLhi",
    "outputId": "6970e28b-a434-4358-e517-512d6aae333f"
   },
   "outputs": [
    {
     "name": "stdout",
     "output_type": "stream",
     "text": [
      "(261, 1751, 3)\n",
      "(261, 17, 103, 3)\n",
      "Model: \"sequential_2\"\n",
      "_________________________________________________________________\n",
      " Layer (type)                Output Shape              Param #   \n",
      "=================================================================\n",
      " time_distributed_14 (TimeDi  (None, None, 101, 64)    640       \n",
      " stributed)                                                      \n",
      "                                                                 \n",
      " time_distributed_15 (TimeDi  (None, None, 33, 64)     0         \n",
      " stributed)                                                      \n",
      "                                                                 \n",
      " time_distributed_16 (TimeDi  (None, None, 31, 128)    24704     \n",
      " stributed)                                                      \n",
      "                                                                 \n",
      " time_distributed_17 (TimeDi  (None, None, 10, 128)    0         \n",
      " stributed)                                                      \n",
      "                                                                 \n",
      " time_distributed_18 (TimeDi  (None, None, 8, 512)     197120    \n",
      " stributed)                                                      \n",
      "                                                                 \n",
      " time_distributed_19 (TimeDi  (None, None, 6, 1024)    1573888   \n",
      " stributed)                                                      \n",
      "                                                                 \n",
      " time_distributed_20 (TimeDi  (None, None, 6144)       0         \n",
      " stributed)                                                      \n",
      "                                                                 \n",
      " lstm_4 (LSTM)               (None, None, 64)          1589504   \n",
      "                                                                 \n",
      " lstm_5 (LSTM)               (None, 64)                33024     \n",
      "                                                                 \n",
      " dense_8 (Dense)             (None, 256)               16640     \n",
      "                                                                 \n",
      " dense_9 (Dense)             (None, 128)               32896     \n",
      "                                                                 \n",
      " dense_10 (Dense)            (None, 64)                8256      \n",
      "                                                                 \n",
      " dense_11 (Dense)            (None, 4)                 260       \n",
      "                                                                 \n",
      "=================================================================\n",
      "Total params: 3,476,932\n",
      "Trainable params: 3,476,932\n",
      "Non-trainable params: 0\n",
      "_________________________________________________________________\n",
      "Epoch 1/300\n",
      "9/9 [==============================] - 11s 596ms/step - loss: 1.3972 - accuracy: 0.2107\n",
      "Epoch 2/300\n",
      "9/9 [==============================] - 6s 683ms/step - loss: 1.3938 - accuracy: 0.2146\n",
      "Epoch 3/300\n",
      "9/9 [==============================] - 10s 1s/step - loss: 1.3896 - accuracy: 0.2490\n",
      "Epoch 4/300\n",
      "9/9 [==============================] - 10s 1s/step - loss: 1.3901 - accuracy: 0.2375\n",
      "Epoch 5/300\n",
      "9/9 [==============================] - 9s 915ms/step - loss: 1.3887 - accuracy: 0.2146\n",
      "Epoch 6/300\n",
      "9/9 [==============================] - 8s 906ms/step - loss: 1.3895 - accuracy: 0.2644\n",
      "Epoch 7/300\n",
      "9/9 [==============================] - 7s 776ms/step - loss: 1.3882 - accuracy: 0.2529\n",
      "Epoch 8/300\n",
      "9/9 [==============================] - 8s 944ms/step - loss: 1.3888 - accuracy: 0.2375\n",
      "Epoch 9/300\n",
      "9/9 [==============================] - 8s 886ms/step - loss: 1.3868 - accuracy: 0.2567\n",
      "Epoch 10/300\n",
      "9/9 [==============================] - 9s 984ms/step - loss: 1.3843 - accuracy: 0.2529\n",
      "Epoch 11/300\n",
      "9/9 [==============================] - 8s 876ms/step - loss: 1.3810 - accuracy: 0.2529\n",
      "Epoch 12/300\n",
      "9/9 [==============================] - 8s 882ms/step - loss: 1.4058 - accuracy: 0.2490\n",
      "Epoch 13/300\n",
      "9/9 [==============================] - 7s 800ms/step - loss: 1.3871 - accuracy: 0.2375\n",
      "Epoch 14/300\n",
      "9/9 [==============================] - 8s 937ms/step - loss: 1.3844 - accuracy: 0.2644\n",
      "Epoch 15/300\n",
      "9/9 [==============================] - 8s 891ms/step - loss: 1.3808 - accuracy: 0.2874\n",
      "Epoch 16/300\n",
      "9/9 [==============================] - 9s 1s/step - loss: 1.3669 - accuracy: 0.3065\n",
      "Epoch 17/300\n",
      "9/9 [==============================] - 9s 945ms/step - loss: 1.3887 - accuracy: 0.2605\n",
      "Epoch 18/300\n",
      "9/9 [==============================] - 9s 1s/step - loss: 1.3772 - accuracy: 0.2989\n",
      "Epoch 19/300\n",
      "9/9 [==============================] - 7s 758ms/step - loss: 1.3689 - accuracy: 0.3180\n",
      "Epoch 20/300\n",
      "9/9 [==============================] - 9s 1s/step - loss: 1.3687 - accuracy: 0.3142\n",
      "Epoch 21/300\n",
      "9/9 [==============================] - 8s 832ms/step - loss: 1.3748 - accuracy: 0.2874\n",
      "Epoch 22/300\n",
      "9/9 [==============================] - 9s 991ms/step - loss: 1.3806 - accuracy: 0.2759\n",
      "Epoch 23/300\n",
      "9/9 [==============================] - 9s 967ms/step - loss: 1.3673 - accuracy: 0.2950\n",
      "Epoch 24/300\n",
      "9/9 [==============================] - 8s 827ms/step - loss: 1.3652 - accuracy: 0.2874\n",
      "Epoch 25/300\n",
      "9/9 [==============================] - 7s 834ms/step - loss: 1.3724 - accuracy: 0.2835\n",
      "Epoch 26/300\n",
      "9/9 [==============================] - 8s 854ms/step - loss: 1.3576 - accuracy: 0.2720\n",
      "Epoch 27/300\n",
      "9/9 [==============================] - 7s 741ms/step - loss: 1.3733 - accuracy: 0.2874\n",
      "Epoch 28/300\n",
      "9/9 [==============================] - 9s 964ms/step - loss: 1.3728 - accuracy: 0.2912\n",
      "Epoch 29/300\n",
      "9/9 [==============================] - 7s 740ms/step - loss: 1.3753 - accuracy: 0.2989\n",
      "Epoch 30/300\n",
      "9/9 [==============================] - 9s 1s/step - loss: 1.3714 - accuracy: 0.2797\n",
      "Epoch 31/300\n",
      "9/9 [==============================] - 9s 947ms/step - loss: 1.3558 - accuracy: 0.3218\n",
      "Epoch 32/300\n",
      "9/9 [==============================] - 8s 903ms/step - loss: 1.3504 - accuracy: 0.3142\n",
      "Epoch 33/300\n",
      "9/9 [==============================] - 8s 881ms/step - loss: 1.3318 - accuracy: 0.2874\n",
      "Epoch 34/300\n",
      "9/9 [==============================] - 11s 1s/step - loss: 1.3384 - accuracy: 0.2912\n",
      "Epoch 35/300\n",
      "9/9 [==============================] - 11s 1s/step - loss: 1.3186 - accuracy: 0.3372\n",
      "Epoch 36/300\n",
      "9/9 [==============================] - 11s 1s/step - loss: 1.3336 - accuracy: 0.3295\n",
      "Epoch 37/300\n",
      "9/9 [==============================] - 11s 1s/step - loss: 1.3219 - accuracy: 0.3563\n",
      "Epoch 38/300\n",
      "9/9 [==============================] - 9s 1s/step - loss: 1.3216 - accuracy: 0.3295\n",
      "Epoch 39/300\n",
      "9/9 [==============================] - 8s 869ms/step - loss: 1.3388 - accuracy: 0.3333\n",
      "Epoch 40/300\n",
      "9/9 [==============================] - 10s 1s/step - loss: 1.3252 - accuracy: 0.3218\n",
      "Epoch 41/300\n",
      "9/9 [==============================] - 10s 1s/step - loss: 1.3059 - accuracy: 0.3410\n",
      "Epoch 42/300\n",
      "9/9 [==============================] - 10s 1s/step - loss: 1.3235 - accuracy: 0.3333\n",
      "Epoch 43/300\n",
      "9/9 [==============================] - 9s 1s/step - loss: 1.3542 - accuracy: 0.2989\n",
      "Epoch 44/300\n",
      "9/9 [==============================] - 8s 875ms/step - loss: 1.3451 - accuracy: 0.2720\n",
      "Epoch 45/300\n",
      "9/9 [==============================] - 9s 1s/step - loss: 1.3380 - accuracy: 0.3257\n",
      "Epoch 46/300\n",
      "9/9 [==============================] - 8s 893ms/step - loss: 1.3233 - accuracy: 0.3410\n",
      "Epoch 47/300\n",
      "9/9 [==============================] - 9s 1s/step - loss: 1.3048 - accuracy: 0.3640\n",
      "Epoch 48/300\n",
      "9/9 [==============================] - 7s 792ms/step - loss: 1.2916 - accuracy: 0.3410\n",
      "Epoch 49/300\n",
      "9/9 [==============================] - 10s 1s/step - loss: 1.2856 - accuracy: 0.3716\n",
      "Epoch 50/300\n",
      "9/9 [==============================] - 8s 889ms/step - loss: 1.2949 - accuracy: 0.3716\n",
      "Epoch 51/300\n",
      "9/9 [==============================] - 10s 1s/step - loss: 1.2619 - accuracy: 0.3755\n",
      "Epoch 52/300\n",
      "9/9 [==============================] - 10s 1s/step - loss: 1.2602 - accuracy: 0.3678\n",
      "Epoch 53/300\n",
      "9/9 [==============================] - 10s 1s/step - loss: 1.2715 - accuracy: 0.3985\n",
      "Epoch 54/300\n",
      "9/9 [==============================] - 10s 1s/step - loss: 1.2670 - accuracy: 0.3640\n",
      "Epoch 55/300\n",
      "9/9 [==============================] - 9s 1s/step - loss: 1.2564 - accuracy: 0.3908\n",
      "Epoch 56/300\n",
      "9/9 [==============================] - 11s 1s/step - loss: 1.2936 - accuracy: 0.3602\n",
      "Epoch 57/300\n"
     ]
    },
    {
     "name": "stdout",
     "output_type": "stream",
     "text": [
      "9/9 [==============================] - 10s 1s/step - loss: 1.2925 - accuracy: 0.3525\n",
      "Epoch 58/300\n",
      "9/9 [==============================] - 10s 1s/step - loss: 1.2996 - accuracy: 0.3525\n",
      "Epoch 59/300\n",
      "9/9 [==============================] - 9s 1s/step - loss: 1.2852 - accuracy: 0.3640\n",
      "Epoch 60/300\n",
      "9/9 [==============================] - 9s 961ms/step - loss: 1.2749 - accuracy: 0.3831\n",
      "Epoch 61/300\n",
      "9/9 [==============================] - 9s 1s/step - loss: 1.2680 - accuracy: 0.3678\n",
      "Epoch 62/300\n",
      "9/9 [==============================] - 9s 1s/step - loss: 1.2541 - accuracy: 0.3525\n",
      "Epoch 63/300\n",
      "9/9 [==============================] - 12s 1s/step - loss: 1.2889 - accuracy: 0.3640\n",
      "Epoch 64/300\n",
      "9/9 [==============================] - 12s 1s/step - loss: 1.2412 - accuracy: 0.3946\n",
      "Epoch 65/300\n",
      "9/9 [==============================] - 12s 1s/step - loss: 1.2549 - accuracy: 0.3831\n",
      "Epoch 66/300\n",
      "9/9 [==============================] - 11s 1s/step - loss: 1.2095 - accuracy: 0.3985\n",
      "Epoch 67/300\n",
      "9/9 [==============================] - 11s 1s/step - loss: 1.1984 - accuracy: 0.4215\n",
      "Epoch 68/300\n",
      "9/9 [==============================] - 10s 1s/step - loss: 1.2064 - accuracy: 0.4330\n",
      "Epoch 69/300\n",
      "9/9 [==============================] - 9s 998ms/step - loss: 1.1819 - accuracy: 0.4291\n",
      "Epoch 70/300\n",
      "9/9 [==============================] - 10s 1s/step - loss: 1.2776 - accuracy: 0.4100\n",
      "Epoch 71/300\n",
      "9/9 [==============================] - 9s 1s/step - loss: 1.1985 - accuracy: 0.4559\n",
      "Epoch 72/300\n",
      "9/9 [==============================] - 8s 898ms/step - loss: 1.2278 - accuracy: 0.4253\n",
      "Epoch 73/300\n",
      "9/9 [==============================] - 11s 1s/step - loss: 1.2946 - accuracy: 0.4138\n",
      "Epoch 74/300\n",
      "9/9 [==============================] - 10s 1s/step - loss: 1.2409 - accuracy: 0.4330\n",
      "Epoch 75/300\n",
      "9/9 [==============================] - 11s 1s/step - loss: 1.1858 - accuracy: 0.4598\n",
      "Epoch 76/300\n",
      "9/9 [==============================] - 10s 1s/step - loss: 1.2102 - accuracy: 0.4253\n",
      "Epoch 77/300\n",
      "9/9 [==============================] - 11s 1s/step - loss: 1.1684 - accuracy: 0.4789\n",
      "Epoch 78/300\n",
      "9/9 [==============================] - 11s 1s/step - loss: 1.2030 - accuracy: 0.4253\n",
      "Epoch 79/300\n",
      "9/9 [==============================] - 12s 1s/step - loss: 1.1939 - accuracy: 0.4253\n",
      "Epoch 80/300\n",
      "9/9 [==============================] - 13s 1s/step - loss: 1.1486 - accuracy: 0.4444\n",
      "Epoch 81/300\n",
      "9/9 [==============================] - 12s 1s/step - loss: 1.1417 - accuracy: 0.4866\n",
      "Epoch 82/300\n",
      "9/9 [==============================] - 12s 1s/step - loss: 1.0806 - accuracy: 0.4981\n",
      "Epoch 83/300\n",
      "9/9 [==============================] - 11s 1s/step - loss: 1.0708 - accuracy: 0.5019\n",
      "Epoch 84/300\n",
      "9/9 [==============================] - 9s 1s/step - loss: 1.0883 - accuracy: 0.4636\n",
      "Epoch 85/300\n",
      "9/9 [==============================] - 10s 1s/step - loss: 1.0574 - accuracy: 0.5709\n",
      "Epoch 86/300\n",
      "9/9 [==============================] - 11s 1s/step - loss: 1.0205 - accuracy: 0.5211\n",
      "Epoch 87/300\n",
      "9/9 [==============================] - 9s 986ms/step - loss: 1.0284 - accuracy: 0.5172\n",
      "Epoch 88/300\n",
      "9/9 [==============================] - 10s 1s/step - loss: 1.0585 - accuracy: 0.5096\n",
      "Epoch 89/300\n",
      "9/9 [==============================] - 11s 1s/step - loss: 1.0202 - accuracy: 0.5479\n",
      "Epoch 90/300\n",
      "9/9 [==============================] - 9s 967ms/step - loss: 0.9875 - accuracy: 0.5747\n",
      "Epoch 91/300\n",
      "9/9 [==============================] - 11s 1s/step - loss: 0.9665 - accuracy: 0.5785\n",
      "Epoch 92/300\n",
      "9/9 [==============================] - 10s 1s/step - loss: 1.0333 - accuracy: 0.5364\n",
      "Epoch 93/300\n",
      "9/9 [==============================] - 9s 1s/step - loss: 0.9660 - accuracy: 0.5824\n",
      "Epoch 94/300\n",
      "9/9 [==============================] - 9s 1s/step - loss: 0.9616 - accuracy: 0.5862\n",
      "Epoch 95/300\n",
      "9/9 [==============================] - 9s 949ms/step - loss: 0.8937 - accuracy: 0.6015\n",
      "Epoch 96/300\n",
      "9/9 [==============================] - 10s 1s/step - loss: 0.8649 - accuracy: 0.6360\n",
      "Epoch 97/300\n",
      "9/9 [==============================] - 9s 1s/step - loss: 0.8693 - accuracy: 0.5900\n",
      "Epoch 98/300\n",
      "9/9 [==============================] - 10s 1s/step - loss: 0.8368 - accuracy: 0.6054\n",
      "Epoch 99/300\n",
      "9/9 [==============================] - 10s 1s/step - loss: 0.8971 - accuracy: 0.5939\n",
      "Epoch 100/300\n",
      "9/9 [==============================] - 9s 1s/step - loss: 0.8989 - accuracy: 0.6360\n",
      "Epoch 101/300\n",
      "9/9 [==============================] - 12s 1s/step - loss: 0.8936 - accuracy: 0.6054\n",
      "Epoch 102/300\n",
      "9/9 [==============================] - 11s 1s/step - loss: 0.8366 - accuracy: 0.6207\n",
      "Epoch 103/300\n",
      "9/9 [==============================] - 10s 1s/step - loss: 0.8521 - accuracy: 0.6245\n",
      "Epoch 104/300\n",
      "9/9 [==============================] - 11s 1s/step - loss: 1.0028 - accuracy: 0.5747\n",
      "Epoch 105/300\n",
      "9/9 [==============================] - 9s 1s/step - loss: 0.9831 - accuracy: 0.5785\n",
      "Epoch 106/300\n",
      "9/9 [==============================] - 10s 1s/step - loss: 0.8992 - accuracy: 0.6322\n",
      "Epoch 107/300\n",
      "9/9 [==============================] - 11s 1s/step - loss: 0.8275 - accuracy: 0.6552\n",
      "Epoch 108/300\n",
      "9/9 [==============================] - 11s 1s/step - loss: 0.7877 - accuracy: 0.6398\n",
      "Epoch 109/300\n",
      "9/9 [==============================] - 12s 1s/step - loss: 0.8079 - accuracy: 0.6475\n",
      "Epoch 110/300\n",
      "9/9 [==============================] - 11s 1s/step - loss: 0.7573 - accuracy: 0.6552\n",
      "Epoch 111/300\n",
      "9/9 [==============================] - 11s 1s/step - loss: 0.8205 - accuracy: 0.6782\n",
      "Epoch 112/300\n",
      "9/9 [==============================] - 12s 1s/step - loss: 0.8726 - accuracy: 0.6245\n",
      "Epoch 113/300\n",
      "9/9 [==============================] - 11s 1s/step - loss: 0.7819 - accuracy: 0.6475\n",
      "Epoch 114/300\n",
      "9/9 [==============================] - 11s 1s/step - loss: 0.7183 - accuracy: 0.7088\n",
      "Epoch 115/300\n",
      "9/9 [==============================] - 9s 1s/step - loss: 0.6756 - accuracy: 0.7126\n",
      "Epoch 116/300\n",
      "9/9 [==============================] - 11s 1s/step - loss: 0.6419 - accuracy: 0.7203\n",
      "Epoch 117/300\n",
      "9/9 [==============================] - 11s 1s/step - loss: 0.6109 - accuracy: 0.7663\n",
      "Epoch 118/300\n",
      "9/9 [==============================] - 10s 1s/step - loss: 0.5976 - accuracy: 0.7433\n",
      "Epoch 119/300\n",
      "9/9 [==============================] - 11s 1s/step - loss: 0.5534 - accuracy: 0.7471\n",
      "Epoch 120/300\n",
      "9/9 [==============================] - 10s 1s/step - loss: 0.8730 - accuracy: 0.6513\n",
      "Epoch 121/300\n",
      "9/9 [==============================] - 10s 1s/step - loss: 0.9847 - accuracy: 0.5862\n",
      "Epoch 122/300\n",
      "9/9 [==============================] - 11s 1s/step - loss: 0.7970 - accuracy: 0.6475\n",
      "Epoch 123/300\n",
      "9/9 [==============================] - 10s 1s/step - loss: 0.6701 - accuracy: 0.7088\n",
      "Epoch 124/300\n",
      "9/9 [==============================] - 11s 1s/step - loss: 0.5622 - accuracy: 0.7778\n",
      "Epoch 125/300\n",
      "9/9 [==============================] - 11s 1s/step - loss: 0.5735 - accuracy: 0.7854\n",
      "Epoch 126/300\n",
      "9/9 [==============================] - 9s 1s/step - loss: 0.4977 - accuracy: 0.7816\n",
      "Epoch 127/300\n",
      "9/9 [==============================] - 12s 1s/step - loss: 0.5492 - accuracy: 0.7510\n",
      "Epoch 128/300\n",
      "9/9 [==============================] - 11s 1s/step - loss: 0.6386 - accuracy: 0.7625\n",
      "Epoch 129/300\n",
      "9/9 [==============================] - 11s 1s/step - loss: 0.6586 - accuracy: 0.7203\n",
      "Epoch 130/300\n",
      "9/9 [==============================] - 12s 1s/step - loss: 0.6032 - accuracy: 0.7356\n",
      "Epoch 131/300\n",
      "9/9 [==============================] - 10s 1s/step - loss: 0.5607 - accuracy: 0.7701\n",
      "Epoch 132/300\n",
      "9/9 [==============================] - 10s 1s/step - loss: 0.5184 - accuracy: 0.8046\n",
      "Epoch 133/300\n",
      "9/9 [==============================] - 10s 1s/step - loss: 0.4622 - accuracy: 0.8008\n",
      "Epoch 134/300\n",
      "9/9 [==============================] - 10s 1s/step - loss: 0.4718 - accuracy: 0.8352\n",
      "Epoch 135/300\n",
      "9/9 [==============================] - 10s 1s/step - loss: 0.4249 - accuracy: 0.8429\n",
      "Epoch 136/300\n",
      "9/9 [==============================] - 12s 1s/step - loss: 0.3670 - accuracy: 0.8736\n",
      "Epoch 137/300\n",
      "9/9 [==============================] - 11s 1s/step - loss: 0.3463 - accuracy: 0.8544\n",
      "Epoch 138/300\n",
      "9/9 [==============================] - 13s 1s/step - loss: 0.3329 - accuracy: 0.8582\n",
      "Epoch 139/300\n",
      "9/9 [==============================] - 11s 1s/step - loss: 0.5389 - accuracy: 0.7816\n",
      "Epoch 140/300\n"
     ]
    },
    {
     "name": "stdout",
     "output_type": "stream",
     "text": [
      "9/9 [==============================] - 12s 1s/step - loss: 0.9883 - accuracy: 0.7165\n",
      "Epoch 141/300\n",
      "9/9 [==============================] - 11s 1s/step - loss: 0.9054 - accuracy: 0.6437\n",
      "Epoch 142/300\n",
      "9/9 [==============================] - 10s 1s/step - loss: 0.8775 - accuracy: 0.6513\n",
      "Epoch 143/300\n",
      "9/9 [==============================] - 11s 1s/step - loss: 0.8711 - accuracy: 0.6590\n",
      "Epoch 144/300\n",
      "9/9 [==============================] - 12s 1s/step - loss: 0.8076 - accuracy: 0.6705\n",
      "Epoch 145/300\n",
      "9/9 [==============================] - 12s 1s/step - loss: 0.8208 - accuracy: 0.6513\n",
      "Epoch 146/300\n",
      "9/9 [==============================] - 12s 1s/step - loss: 0.7839 - accuracy: 0.6552\n",
      "Epoch 147/300\n",
      "9/9 [==============================] - 12s 1s/step - loss: 0.7127 - accuracy: 0.7126\n",
      "Epoch 148/300\n",
      "9/9 [==============================] - 11s 1s/step - loss: 0.6746 - accuracy: 0.7318\n",
      "Epoch 149/300\n",
      "9/9 [==============================] - 11s 1s/step - loss: 0.6447 - accuracy: 0.7395\n",
      "Epoch 150/300\n",
      "9/9 [==============================] - 11s 1s/step - loss: 0.5450 - accuracy: 0.7931\n",
      "Epoch 151/300\n",
      "9/9 [==============================] - 11s 1s/step - loss: 0.4847 - accuracy: 0.8314\n",
      "Epoch 152/300\n",
      "9/9 [==============================] - 12s 1s/step - loss: 0.4148 - accuracy: 0.8429\n",
      "Epoch 153/300\n",
      "9/9 [==============================] - 10s 1s/step - loss: 0.5032 - accuracy: 0.8084\n",
      "Epoch 154/300\n",
      "9/9 [==============================] - 10s 1s/step - loss: 0.4955 - accuracy: 0.8238\n",
      "Epoch 155/300\n",
      "9/9 [==============================] - 10s 1s/step - loss: 0.5085 - accuracy: 0.7816\n",
      "Epoch 156/300\n",
      "9/9 [==============================] - 11s 1s/step - loss: 0.9856 - accuracy: 0.6552\n",
      "Epoch 157/300\n",
      "9/9 [==============================] - 10s 1s/step - loss: 0.8999 - accuracy: 0.6245\n",
      "Epoch 158/300\n",
      "9/9 [==============================] - 9s 980ms/step - loss: 0.6620 - accuracy: 0.7548\n",
      "Epoch 159/300\n",
      "9/9 [==============================] - 14s 2s/step - loss: 0.6211 - accuracy: 0.7816\n",
      "Epoch 160/300\n",
      "9/9 [==============================] - 11s 1s/step - loss: 0.5274 - accuracy: 0.7854\n",
      "Epoch 161/300\n",
      "9/9 [==============================] - 10s 1s/step - loss: 0.4993 - accuracy: 0.8123\n",
      "Epoch 162/300\n",
      "9/9 [==============================] - 10s 1s/step - loss: 0.4258 - accuracy: 0.8199\n",
      "Epoch 163/300\n",
      "9/9 [==============================] - 10s 1s/step - loss: 0.3984 - accuracy: 0.8429\n",
      "Epoch 164/300\n",
      "9/9 [==============================] - 10s 1s/step - loss: 0.3301 - accuracy: 0.8697\n",
      "Epoch 165/300\n",
      "9/9 [==============================] - 10s 1s/step - loss: 0.3740 - accuracy: 0.8467\n",
      "Epoch 166/300\n",
      "9/9 [==============================] - 10s 1s/step - loss: 0.4132 - accuracy: 0.8544\n",
      "Epoch 167/300\n",
      "9/9 [==============================] - 11s 1s/step - loss: 0.3905 - accuracy: 0.8582\n",
      "Epoch 168/300\n",
      "9/9 [==============================] - 10s 1s/step - loss: 0.4488 - accuracy: 0.8352\n",
      "Epoch 169/300\n",
      "9/9 [==============================] - 11s 1s/step - loss: 0.4720 - accuracy: 0.8123\n",
      "Epoch 170/300\n",
      "9/9 [==============================] - 11s 1s/step - loss: 0.5025 - accuracy: 0.8238\n",
      "Epoch 171/300\n",
      "9/9 [==============================] - 11s 1s/step - loss: 0.6196 - accuracy: 0.7356\n",
      "Epoch 172/300\n",
      "9/9 [==============================] - 11s 1s/step - loss: 0.6861 - accuracy: 0.7318\n",
      "Epoch 173/300\n",
      "9/9 [==============================] - 10s 1s/step - loss: 0.6986 - accuracy: 0.7548\n",
      "Epoch 174/300\n",
      "9/9 [==============================] - 12s 1s/step - loss: 0.6612 - accuracy: 0.7203\n",
      "Epoch 175/300\n",
      "9/9 [==============================] - 12s 1s/step - loss: 0.6033 - accuracy: 0.7510\n",
      "Epoch 176/300\n",
      "9/9 [==============================] - 12s 1s/step - loss: 0.5053 - accuracy: 0.8161\n",
      "Epoch 177/300\n",
      "9/9 [==============================] - 10s 1s/step - loss: 0.5212 - accuracy: 0.8008\n",
      "Epoch 178/300\n",
      "9/9 [==============================] - 10s 1s/step - loss: 0.4929 - accuracy: 0.8199\n",
      "Epoch 179/300\n",
      "9/9 [==============================] - 9s 1s/step - loss: 0.4558 - accuracy: 0.8046\n",
      "Epoch 180/300\n",
      "9/9 [==============================] - 11s 1s/step - loss: 0.3901 - accuracy: 0.8429\n",
      "Epoch 181/300\n",
      "9/9 [==============================] - 11s 1s/step - loss: 0.3156 - accuracy: 0.8774\n",
      "Epoch 182/300\n",
      "9/9 [==============================] - 10s 1s/step - loss: 0.3427 - accuracy: 0.8774\n",
      "Epoch 183/300\n",
      "9/9 [==============================] - 12s 1s/step - loss: 0.3131 - accuracy: 0.8659\n",
      "Epoch 184/300\n",
      "9/9 [==============================] - 12s 1s/step - loss: 0.3345 - accuracy: 0.8736\n",
      "Epoch 185/300\n",
      "9/9 [==============================] - 10s 1s/step - loss: 0.3184 - accuracy: 0.8812\n",
      "Epoch 186/300\n",
      "9/9 [==============================] - 11s 1s/step - loss: 0.3034 - accuracy: 0.8774\n",
      "Epoch 187/300\n",
      "9/9 [==============================] - 11s 1s/step - loss: 0.2847 - accuracy: 0.8736\n",
      "Epoch 188/300\n",
      "9/9 [==============================] - 10s 1s/step - loss: 0.2356 - accuracy: 0.9195\n",
      "Epoch 189/300\n",
      "9/9 [==============================] - 11s 1s/step - loss: 0.2239 - accuracy: 0.9195\n",
      "Epoch 190/300\n",
      "9/9 [==============================] - 12s 1s/step - loss: 0.4192 - accuracy: 0.8927\n",
      "Epoch 191/300\n",
      "9/9 [==============================] - 11s 1s/step - loss: 0.2943 - accuracy: 0.8774\n",
      "Epoch 192/300\n",
      "9/9 [==============================] - 11s 1s/step - loss: 0.3224 - accuracy: 0.8812\n",
      "Epoch 193/300\n",
      "9/9 [==============================] - 11s 1s/step - loss: 0.2869 - accuracy: 0.8927\n",
      "Epoch 194/300\n",
      "9/9 [==============================] - 10s 1s/step - loss: 0.3276 - accuracy: 0.9080\n",
      "Epoch 195/300\n",
      "9/9 [==============================] - 10s 1s/step - loss: 0.3011 - accuracy: 0.8927\n",
      "Epoch 196/300\n",
      "9/9 [==============================] - 10s 1s/step - loss: 0.3472 - accuracy: 0.8889\n",
      "Epoch 197/300\n",
      "9/9 [==============================] - 11s 1s/step - loss: 0.2800 - accuracy: 0.8966\n",
      "Epoch 198/300\n",
      "9/9 [==============================] - 10s 1s/step - loss: 0.2420 - accuracy: 0.9042\n",
      "Epoch 199/300\n",
      "9/9 [==============================] - 10s 1s/step - loss: 0.1953 - accuracy: 0.9387\n",
      "Epoch 200/300\n",
      "9/9 [==============================] - 9s 925ms/step - loss: 0.1510 - accuracy: 0.9425\n",
      "Epoch 201/300\n",
      "9/9 [==============================] - 10s 1s/step - loss: 0.1303 - accuracy: 0.9540\n",
      "Epoch 202/300\n",
      "9/9 [==============================] - 9s 957ms/step - loss: 0.1127 - accuracy: 0.9655\n",
      "Epoch 203/300\n",
      "9/9 [==============================] - 10s 1s/step - loss: 0.0922 - accuracy: 0.9808\n",
      "Epoch 204/300\n",
      "9/9 [==============================] - 13s 2s/step - loss: 0.1445 - accuracy: 0.9425\n",
      "Epoch 205/300\n",
      "9/9 [==============================] - 12s 1s/step - loss: 0.1841 - accuracy: 0.9349\n",
      "Epoch 206/300\n",
      "9/9 [==============================] - 11s 1s/step - loss: 0.2114 - accuracy: 0.9195\n",
      "Epoch 207/300\n",
      "9/9 [==============================] - 12s 1s/step - loss: 0.1395 - accuracy: 0.9425\n",
      "Epoch 208/300\n",
      "9/9 [==============================] - 12s 1s/step - loss: 0.1415 - accuracy: 0.9540\n",
      "Epoch 209/300\n",
      "9/9 [==============================] - 11s 1s/step - loss: 0.1051 - accuracy: 0.9655\n",
      "Epoch 210/300\n",
      "9/9 [==============================] - 10s 1s/step - loss: 0.0843 - accuracy: 0.9732\n",
      "Epoch 211/300\n",
      "9/9 [==============================] - 12s 1s/step - loss: 0.0946 - accuracy: 0.9693\n",
      "Epoch 212/300\n",
      "9/9 [==============================] - 12s 1s/step - loss: 0.0730 - accuracy: 0.9808\n",
      "Epoch 213/300\n",
      "9/9 [==============================] - 12s 1s/step - loss: 0.0684 - accuracy: 0.9732\n",
      "Epoch 214/300\n",
      "9/9 [==============================] - 12s 1s/step - loss: 0.0600 - accuracy: 0.9847\n",
      "Epoch 215/300\n",
      "9/9 [==============================] - 15s 2s/step - loss: 0.0786 - accuracy: 0.9655\n",
      "Epoch 216/300\n",
      "9/9 [==============================] - 13s 1s/step - loss: 0.0866 - accuracy: 0.9693\n",
      "Epoch 217/300\n",
      "9/9 [==============================] - 11s 1s/step - loss: 0.1349 - accuracy: 0.9655\n",
      "Epoch 218/300\n",
      "9/9 [==============================] - 11s 1s/step - loss: 0.1335 - accuracy: 0.9310\n",
      "Epoch 219/300\n",
      "9/9 [==============================] - 11s 1s/step - loss: 0.3316 - accuracy: 0.9157\n",
      "Epoch 220/300\n",
      "9/9 [==============================] - 10s 1s/step - loss: 0.4204 - accuracy: 0.8966\n",
      "Epoch 221/300\n",
      "9/9 [==============================] - 10s 1s/step - loss: 0.4894 - accuracy: 0.8506\n",
      "Epoch 222/300\n"
     ]
    },
    {
     "name": "stdout",
     "output_type": "stream",
     "text": [
      "9/9 [==============================] - 12s 1s/step - loss: 0.6367 - accuracy: 0.8008\n",
      "Epoch 223/300\n",
      "9/9 [==============================] - 11s 1s/step - loss: 0.9409 - accuracy: 0.6820\n",
      "Epoch 224/300\n",
      "9/9 [==============================] - 9s 995ms/step - loss: 1.0665 - accuracy: 0.5862\n",
      "Epoch 225/300\n",
      "9/9 [==============================] - 11s 1s/step - loss: 0.7736 - accuracy: 0.6935\n",
      "Epoch 226/300\n",
      "9/9 [==============================] - 9s 1s/step - loss: 0.6076 - accuracy: 0.7739\n",
      "Epoch 227/300\n",
      "9/9 [==============================] - 11s 1s/step - loss: 0.4829 - accuracy: 0.8314\n",
      "Epoch 228/300\n",
      "9/9 [==============================] - 11s 1s/step - loss: 0.4238 - accuracy: 0.8391\n",
      "Epoch 229/300\n",
      "9/9 [==============================] - 10s 1s/step - loss: 0.3633 - accuracy: 0.8812\n",
      "Epoch 230/300\n",
      "9/9 [==============================] - 12s 1s/step - loss: 0.2944 - accuracy: 0.9004\n",
      "Epoch 231/300\n",
      "9/9 [==============================] - 13s 1s/step - loss: 0.2660 - accuracy: 0.9004\n",
      "Epoch 232/300\n",
      "9/9 [==============================] - 12s 1s/step - loss: 0.2298 - accuracy: 0.9119\n",
      "Epoch 233/300\n",
      "9/9 [==============================] - 12s 1s/step - loss: 0.1892 - accuracy: 0.9310\n",
      "Epoch 234/300\n",
      "9/9 [==============================] - 11s 1s/step - loss: 0.1792 - accuracy: 0.9425\n",
      "Epoch 235/300\n",
      "9/9 [==============================] - 13s 1s/step - loss: 0.1347 - accuracy: 0.9540\n",
      "Epoch 236/300\n",
      "9/9 [==============================] - 12s 1s/step - loss: 0.1892 - accuracy: 0.9464\n",
      "Epoch 237/300\n",
      "9/9 [==============================] - 10s 1s/step - loss: 0.2038 - accuracy: 0.9425\n",
      "Epoch 238/300\n",
      "9/9 [==============================] - 11s 1s/step - loss: 0.4218 - accuracy: 0.8774\n",
      "Epoch 239/300\n",
      "9/9 [==============================] - 10s 1s/step - loss: 0.6556 - accuracy: 0.8046\n",
      "Epoch 240/300\n",
      "9/9 [==============================] - 10s 1s/step - loss: 0.6604 - accuracy: 0.7893\n",
      "Epoch 241/300\n",
      "9/9 [==============================] - 11s 1s/step - loss: 0.5429 - accuracy: 0.8008\n",
      "Epoch 242/300\n",
      "9/9 [==============================] - 10s 1s/step - loss: 0.4711 - accuracy: 0.8161\n",
      "Epoch 243/300\n",
      "9/9 [==============================] - 10s 1s/step - loss: 0.4352 - accuracy: 0.8352\n",
      "Epoch 244/300\n",
      "9/9 [==============================] - 11s 1s/step - loss: 0.3807 - accuracy: 0.8506\n",
      "Epoch 245/300\n",
      "9/9 [==============================] - 9s 1s/step - loss: 0.3657 - accuracy: 0.9042\n",
      "Epoch 246/300\n",
      "9/9 [==============================] - 10s 1s/step - loss: 0.2446 - accuracy: 0.9272\n",
      "Epoch 247/300\n",
      "9/9 [==============================] - 10s 1s/step - loss: 0.2764 - accuracy: 0.9080\n",
      "Epoch 248/300\n",
      "9/9 [==============================] - 10s 1s/step - loss: 0.2301 - accuracy: 0.9272\n",
      "Epoch 249/300\n",
      "9/9 [==============================] - 10s 1s/step - loss: 0.1722 - accuracy: 0.9425\n",
      "Epoch 250/300\n",
      "9/9 [==============================] - 10s 1s/step - loss: 0.1461 - accuracy: 0.9464\n",
      "Epoch 251/300\n",
      "9/9 [==============================] - 10s 1s/step - loss: 0.1627 - accuracy: 0.9464\n",
      "Epoch 252/300\n",
      "9/9 [==============================] - 11s 1s/step - loss: 0.1204 - accuracy: 0.9617\n",
      "Epoch 253/300\n",
      "9/9 [==============================] - 10s 1s/step - loss: 0.1167 - accuracy: 0.9732\n",
      "Epoch 254/300\n",
      "9/9 [==============================] - 11s 1s/step - loss: 0.5379 - accuracy: 0.8276\n",
      "Epoch 255/300\n",
      "9/9 [==============================] - 11s 1s/step - loss: 0.5776 - accuracy: 0.8276\n",
      "Epoch 256/300\n",
      "9/9 [==============================] - 9s 992ms/step - loss: 0.5016 - accuracy: 0.8276\n",
      "Epoch 257/300\n",
      "9/9 [==============================] - 12s 1s/step - loss: 0.2553 - accuracy: 0.9004\n",
      "Epoch 258/300\n",
      "9/9 [==============================] - 13s 1s/step - loss: 0.2300 - accuracy: 0.9310\n",
      "Epoch 259/300\n",
      "9/9 [==============================] - 12s 1s/step - loss: 0.2388 - accuracy: 0.9080\n",
      "Epoch 260/300\n",
      "9/9 [==============================] - 10s 1s/step - loss: 0.3279 - accuracy: 0.8966\n",
      "Epoch 261/300\n",
      "9/9 [==============================] - 11s 1s/step - loss: 0.2735 - accuracy: 0.8966\n",
      "Epoch 262/300\n",
      "9/9 [==============================] - 11s 1s/step - loss: 0.2800 - accuracy: 0.9234\n",
      "Epoch 263/300\n",
      "9/9 [==============================] - 10s 1s/step - loss: 0.2413 - accuracy: 0.9119\n",
      "Epoch 264/300\n",
      "9/9 [==============================] - 11s 1s/step - loss: 0.1803 - accuracy: 0.9387\n",
      "Epoch 265/300\n",
      "9/9 [==============================] - 11s 1s/step - loss: 0.2048 - accuracy: 0.9540\n",
      "Epoch 266/300\n",
      "9/9 [==============================] - 10s 1s/step - loss: 0.1697 - accuracy: 0.9464\n",
      "Epoch 267/300\n",
      "9/9 [==============================] - 11s 1s/step - loss: 0.1391 - accuracy: 0.9617\n",
      "Epoch 268/300\n",
      "9/9 [==============================] - 11s 1s/step - loss: 0.0995 - accuracy: 0.9693\n",
      "Epoch 269/300\n",
      "9/9 [==============================] - 10s 1s/step - loss: 0.1098 - accuracy: 0.9617\n",
      "Epoch 270/300\n",
      "9/9 [==============================] - 10s 1s/step - loss: 0.0848 - accuracy: 0.9655\n",
      "Epoch 271/300\n",
      "9/9 [==============================] - 10s 1s/step - loss: 0.0921 - accuracy: 0.9808\n",
      "Epoch 272/300\n",
      "9/9 [==============================] - 10s 1s/step - loss: 0.1433 - accuracy: 0.9502\n",
      "Epoch 273/300\n",
      "9/9 [==============================] - 10s 1s/step - loss: 0.1228 - accuracy: 0.9425\n",
      "Epoch 274/300\n",
      "9/9 [==============================] - 10s 1s/step - loss: 0.0736 - accuracy: 0.9732\n",
      "Epoch 275/300\n",
      "9/9 [==============================] - 12s 1s/step - loss: 0.1012 - accuracy: 0.9655\n",
      "Epoch 276/300\n",
      "9/9 [==============================] - 12s 1s/step - loss: 0.0818 - accuracy: 0.9693\n",
      "Epoch 277/300\n",
      "9/9 [==============================] - 10s 1s/step - loss: 0.1183 - accuracy: 0.9579\n",
      "Epoch 278/300\n",
      "9/9 [==============================] - 10s 1s/step - loss: 0.0950 - accuracy: 0.9617\n",
      "Epoch 279/300\n",
      "9/9 [==============================] - 11s 1s/step - loss: 0.0667 - accuracy: 0.9847\n",
      "Epoch 280/300\n",
      "9/9 [==============================] - 9s 970ms/step - loss: 0.0637 - accuracy: 0.9923\n",
      "Epoch 281/300\n",
      "9/9 [==============================] - 10s 1s/step - loss: 0.1623 - accuracy: 0.9693\n",
      "Epoch 282/300\n",
      "9/9 [==============================] - 10s 1s/step - loss: 0.2250 - accuracy: 0.9464\n",
      "Epoch 283/300\n",
      "9/9 [==============================] - 9s 980ms/step - loss: 0.2537 - accuracy: 0.9234\n",
      "Epoch 284/300\n",
      "9/9 [==============================] - 11s 1s/step - loss: 0.2884 - accuracy: 0.9387\n",
      "Epoch 285/300\n",
      "9/9 [==============================] - 11s 1s/step - loss: 0.2346 - accuracy: 0.9349\n",
      "Epoch 286/300\n",
      "9/9 [==============================] - 10s 1s/step - loss: 0.1858 - accuracy: 0.9272\n",
      "Epoch 287/300\n",
      "9/9 [==============================] - 11s 1s/step - loss: 0.1004 - accuracy: 0.9617\n",
      "Epoch 288/300\n",
      "9/9 [==============================] - 10s 1s/step - loss: 0.0668 - accuracy: 0.9732\n",
      "Epoch 289/300\n",
      "9/9 [==============================] - 10s 1s/step - loss: 0.0871 - accuracy: 0.9617\n",
      "Epoch 290/300\n",
      "9/9 [==============================] - 11s 1s/step - loss: 0.1186 - accuracy: 0.9579\n",
      "Epoch 291/300\n",
      "9/9 [==============================] - 10s 1s/step - loss: 0.2099 - accuracy: 0.9272\n",
      "Epoch 292/300\n",
      "9/9 [==============================] - 10s 1s/step - loss: 0.1466 - accuracy: 0.9502\n",
      "Epoch 293/300\n",
      "9/9 [==============================] - 10s 1s/step - loss: 0.0755 - accuracy: 0.9770\n",
      "Epoch 294/300\n",
      "9/9 [==============================] - 10s 1s/step - loss: 0.0838 - accuracy: 0.9732\n",
      "Epoch 295/300\n",
      "9/9 [==============================] - 11s 1s/step - loss: 0.0854 - accuracy: 0.9655\n",
      "Epoch 296/300\n",
      "9/9 [==============================] - 10s 1s/step - loss: 0.0787 - accuracy: 0.9732\n",
      "Epoch 297/300\n",
      "9/9 [==============================] - 10s 1s/step - loss: 0.0759 - accuracy: 0.9770\n",
      "Epoch 298/300\n",
      "9/9 [==============================] - 12s 1s/step - loss: 0.0446 - accuracy: 0.9808\n",
      "Epoch 299/300\n",
      "9/9 [==============================] - 10s 1s/step - loss: 0.0377 - accuracy: 0.9885\n",
      "Epoch 300/300\n",
      "9/9 [==============================] - 11s 1s/step - loss: 0.0248 - accuracy: 1.0000\n"
     ]
    }
   ],
   "source": [
    "# define model\n",
    "import time\n",
    "verbose, epochs, batch_size = 1, 300, 32\n",
    "#trainX, trainy, testX, testy = trainX, testX, trainy, testy = train_test_split(X, y, test_size=0.2, random_state=42)\n",
    "trainX=Xn1\n",
    "trainy=y\n",
    "testX=Xn2\n",
    "testy=yt\n",
    "n_timesteps, n_features, n_outputs = trainX.shape[1], trainX.shape[2], trainy.shape[1]\n",
    "# reshape data into time steps of sub-sequences\n",
    "n_steps, n_length = 17, 103\n",
    "#For PCA\n",
    "#n_steps, n_length = 5, 20\n",
    "print(trainX.shape)\n",
    "trainX = trainX.reshape((trainX.shape[0], n_steps, n_length, n_features))\n",
    "print(trainX.shape)\n",
    "testX = testX.reshape((testX.shape[0], n_steps, n_length, n_features))\n",
    "#print(\"number of features\",n_features)\n",
    "# define model\n",
    "model = Sequential()\n",
    "model.add(TimeDistributed(Conv1D(filters=64, kernel_size=3, activation='relu'), input_shape=(None,n_length,n_features)))\n",
    "model.add(TimeDistributed(MaxPooling1D(pool_size=3)))\n",
    "#model.add(TimeDistributed(Dropout(0.5)))\n",
    "model.add(TimeDistributed(Conv1D(filters=128, kernel_size=3, activation='relu')))\n",
    "model.add(TimeDistributed(MaxPooling1D(pool_size=3)))\n",
    "#model.add(TimeDistributed(Dropout(0.5)))\n",
    "model.add(TimeDistributed(Conv1D(filters=512, kernel_size=3, activation='relu')))\n",
    "#model.add(TimeDistributed(MaxPooling1D(pool_size=3)))\n",
    "#model.add(TimeDistributed(Dropout(0.5)))\n",
    "model.add(TimeDistributed(Conv1D(filters=1024, kernel_size=3, activation='relu')))\n",
    "#model.add(TimeDistributed(MaxPooling1D(pool_size=3)))\n",
    "model.add(TimeDistributed(Flatten()))\n",
    "#model.add(Dropout(0.5))\n",
    "model.add(LSTM(64,return_sequences=True))\n",
    "model.add(LSTM(64))\n",
    "model.add(Dense(256, activation='relu'))\n",
    "model.add(Dense(128, activation='relu'))\n",
    "model.add(Dense(64, activation='relu'))\n",
    "model.add(Dense(n_outputs, activation='softmax'))\n",
    "model.summary()\n",
    "start_time=time.time()\n",
    "model.compile(loss='categorical_crossentropy', optimizer='adam', metrics=['accuracy'])\n",
    "# fit model\n",
    "model.fit(trainX, trainy, epochs=epochs, batch_size=batch_size, verbose=verbose)\n",
    "# evaluate model\n",
    "test_results= model.evaluate(testX, testy, batch_size=batch_size, verbose=0)\n",
    "#print(test_results)"
   ]
  },
  {
   "cell_type": "code",
   "execution_count": 35,
   "id": "61fd15eb",
   "metadata": {
    "colab": {
     "base_uri": "https://localhost:8080/"
    },
    "id": "61fd15eb",
    "outputId": "4e9aaa61-d4de-48e6-d3a0-dc8aa5667084"
   },
   "outputs": [
    {
     "name": "stdout",
     "output_type": "stream",
     "text": [
      "Test results - Loss: 5.010197162628174 - Accuracy: 0.25095057487487793%\n",
      "Training time:---  3091.003517627716 seconds ---\n"
     ]
    }
   ],
   "source": [
    "print(f'Test results - Loss: {test_results[0]} - Accuracy: {test_results[1]}%')\n",
    "print(\"Training time:---  %s seconds ---\" % (time.time() - start_time))"
   ]
  },
  {
   "cell_type": "code",
   "execution_count": 36,
   "id": "c25acacf",
   "metadata": {
    "colab": {
     "base_uri": "https://localhost:8080/"
    },
    "id": "c25acacf",
    "outputId": "fe58217e-3105-42b8-e57a-6fcc228d1a5e"
   },
   "outputs": [
    {
     "name": "stdout",
     "output_type": "stream",
     "text": [
      "9/9 [==============================] - 3s 105ms/step\n",
      "(263,)\n",
      "Rate of Probability of classification exceeding a threshold in test 0.752851711026616\n",
      "9/9 [==============================] - 1s 113ms/step\n",
      "EVALUATION ON TESTING DATA\n",
      "              precision    recall  f1-score   support\n",
      "\n",
      "           0       0.33      0.29      0.31        66\n",
      "           1       0.18      0.18      0.18        66\n",
      "           2       0.27      0.32      0.29        66\n",
      "           3       0.23      0.22      0.22        65\n",
      "\n",
      "    accuracy                           0.25       263\n",
      "   macro avg       0.25      0.25      0.25       263\n",
      "weighted avg       0.25      0.25      0.25       263\n",
      "\n"
     ]
    }
   ],
   "source": [
    "#Computing F1-score\n",
    "import numpy as np\n",
    "import sklearn\n",
    "import pandas as pd\n",
    "from sklearn.metrics import classification_report, confusion_matrix, f1_score, precision_score, roc_auc_score\n",
    "train_features = np.array(trainX)\n",
    "test_features = np.array(testX)\n",
    "train_labels=np.array(trainy)\n",
    "#train_labels=pd.DataFrame(trainy)\n",
    "#n_values = train_labels.idxmax(axis=1)\n",
    "y_values=np.argmax(train_labels,axis=1)\n",
    "#print(y_values)\n",
    "test_labels=np.array(testy)\n",
    "yt_values=np.argmax(test_labels,axis=1)\n",
    "#train_predictions_baseline = model.predict_classes(train_features, batch_size=150)\n",
    "a=model.predict([test_features])\n",
    "predict_classes=np.argmax(a,axis=1)\n",
    "th=.8\n",
    "atempo=a.max(axis=1)\n",
    "print(atempo.shape)\n",
    "print('Rate of Probability of classification exceeding a threshold in test',(atempo[atempo>th].shape[0])/atempo.shape[0])\n",
    "#prob2=pd.DataFrame(model.predict_proba(test_features,batch_size=150))\n",
    "#a=prob2.max(axis=1)\n",
    "#print('Probability of classification',(a[a>.80].shape[0])/prob2.shape[0])\n",
    "#print('Rate of Probability of classification exceding a trhershold',(a[a>.50].shape[0])/a.shape[0])\n",
    "a1=model.predict([train_features])\n",
    "predict_classes1=np.argmax(a1,axis=1)\n",
    "#f1_train=sklearn.metrics.f1_score(ytrain, train_predictions_baseline, average=\"weighted\")\n",
    "#test_predictions_baseline = model.predict_classes(test_features, batch_size=150)\n",
    "#print(test_predictions_baseline)\n",
    "#f1_test=sklearn.metrics.f1_score(test_labels, test_predictions_baseline, average=\"weighted\")\n",
    "#print('f1_scores in testing set',f1_test)\n",
    "#Calculating metrics for each class\n",
    "print(\"EVALUATION ON TESTING DATA\")\n",
    "print(classification_report(yt_values, predict_classes))"
   ]
  },
  {
   "cell_type": "code",
   "execution_count": 37,
   "id": "06b7c3db",
   "metadata": {
    "id": "06b7c3db",
    "scrolled": true
   },
   "outputs": [],
   "source": [
    "cm=confusion_matrix(yt_values, predict_classes)\n",
    "#print(cm)\n",
    "good=np.diag(cm)/np.unique(yt_values,return_counts=True)[1]\n",
    "#print(good)"
   ]
  },
  {
   "cell_type": "code",
   "execution_count": 38,
   "id": "f5d027a2",
   "metadata": {
    "colab": {
     "base_uri": "https://localhost:8080/",
     "height": 542
    },
    "id": "f5d027a2",
    "outputId": "6cd26d1b-f986-48cc-b00b-066ac3e0e6af"
   },
   "outputs": [
    {
     "data": {
      "application/vnd.plotly.v1+json": {
       "config": {
        "plotlyServerURL": "https://plot.ly"
       },
       "data": [
        {
         "colorscale": [
          [
           0,
           "#440154"
          ],
          [
           0.1111111111111111,
           "#482878"
          ],
          [
           0.2222222222222222,
           "#3e4989"
          ],
          [
           0.3333333333333333,
           "#31688e"
          ],
          [
           0.4444444444444444,
           "#26828e"
          ],
          [
           0.5555555555555556,
           "#1f9e89"
          ],
          [
           0.6666666666666666,
           "#35b779"
          ],
          [
           0.7777777777777778,
           "#6ece58"
          ],
          [
           0.8888888888888888,
           "#b5de2b"
          ],
          [
           1,
           "#fde725"
          ]
         ],
         "reversescale": false,
         "showscale": true,
         "type": "heatmap",
         "x": [
          1,
          2,
          3,
          4
         ],
         "y": [
          1,
          2,
          3,
          4
         ],
         "z": [
          [
           19,
           14,
           17,
           16
          ],
          [
           14,
           12,
           24,
           16
          ],
          [
           13,
           18,
           21,
           14
          ],
          [
           12,
           24,
           15,
           14
          ]
         ]
        }
       ],
       "layout": {
        "annotations": [
         {
          "font": {
           "color": "#000000"
          },
          "showarrow": false,
          "text": "19",
          "x": 1,
          "xref": "x",
          "y": 1,
          "yref": "y"
         },
         {
          "font": {
           "color": "#FFFFFF"
          },
          "showarrow": false,
          "text": "14",
          "x": 2,
          "xref": "x",
          "y": 1,
          "yref": "y"
         },
         {
          "font": {
           "color": "#FFFFFF"
          },
          "showarrow": false,
          "text": "17",
          "x": 3,
          "xref": "x",
          "y": 1,
          "yref": "y"
         },
         {
          "font": {
           "color": "#FFFFFF"
          },
          "showarrow": false,
          "text": "16",
          "x": 4,
          "xref": "x",
          "y": 1,
          "yref": "y"
         },
         {
          "font": {
           "color": "#FFFFFF"
          },
          "showarrow": false,
          "text": "14",
          "x": 1,
          "xref": "x",
          "y": 2,
          "yref": "y"
         },
         {
          "font": {
           "color": "#FFFFFF"
          },
          "showarrow": false,
          "text": "12",
          "x": 2,
          "xref": "x",
          "y": 2,
          "yref": "y"
         },
         {
          "font": {
           "color": "#000000"
          },
          "showarrow": false,
          "text": "24",
          "x": 3,
          "xref": "x",
          "y": 2,
          "yref": "y"
         },
         {
          "font": {
           "color": "#FFFFFF"
          },
          "showarrow": false,
          "text": "16",
          "x": 4,
          "xref": "x",
          "y": 2,
          "yref": "y"
         },
         {
          "font": {
           "color": "#FFFFFF"
          },
          "showarrow": false,
          "text": "13",
          "x": 1,
          "xref": "x",
          "y": 3,
          "yref": "y"
         },
         {
          "font": {
           "color": "#000000"
          },
          "showarrow": false,
          "text": "18",
          "x": 2,
          "xref": "x",
          "y": 3,
          "yref": "y"
         },
         {
          "font": {
           "color": "#000000"
          },
          "showarrow": false,
          "text": "21",
          "x": 3,
          "xref": "x",
          "y": 3,
          "yref": "y"
         },
         {
          "font": {
           "color": "#FFFFFF"
          },
          "showarrow": false,
          "text": "14",
          "x": 4,
          "xref": "x",
          "y": 3,
          "yref": "y"
         },
         {
          "font": {
           "color": "#FFFFFF"
          },
          "showarrow": false,
          "text": "12",
          "x": 1,
          "xref": "x",
          "y": 4,
          "yref": "y"
         },
         {
          "font": {
           "color": "#000000"
          },
          "showarrow": false,
          "text": "24",
          "x": 2,
          "xref": "x",
          "y": 4,
          "yref": "y"
         },
         {
          "font": {
           "color": "#FFFFFF"
          },
          "showarrow": false,
          "text": "15",
          "x": 3,
          "xref": "x",
          "y": 4,
          "yref": "y"
         },
         {
          "font": {
           "color": "#FFFFFF"
          },
          "showarrow": false,
          "text": "14",
          "x": 4,
          "xref": "x",
          "y": 4,
          "yref": "y"
         },
         {
          "font": {
           "color": "black",
           "size": 14
          },
          "showarrow": false,
          "text": "Predicted value",
          "x": 0.5,
          "xref": "paper",
          "y": -0.15,
          "yref": "paper"
         },
         {
          "font": {
           "color": "black",
           "size": 14
          },
          "showarrow": false,
          "text": "Actual value",
          "textangle": -90,
          "x": -0.35,
          "xref": "paper",
          "y": 0.5,
          "yref": "paper"
         }
        ],
        "margin": {
         "l": 200,
         "t": 50
        },
        "template": {
         "data": {
          "bar": [
           {
            "error_x": {
             "color": "#2a3f5f"
            },
            "error_y": {
             "color": "#2a3f5f"
            },
            "marker": {
             "line": {
              "color": "#E5ECF6",
              "width": 0.5
             },
             "pattern": {
              "fillmode": "overlay",
              "size": 10,
              "solidity": 0.2
             }
            },
            "type": "bar"
           }
          ],
          "barpolar": [
           {
            "marker": {
             "line": {
              "color": "#E5ECF6",
              "width": 0.5
             },
             "pattern": {
              "fillmode": "overlay",
              "size": 10,
              "solidity": 0.2
             }
            },
            "type": "barpolar"
           }
          ],
          "carpet": [
           {
            "aaxis": {
             "endlinecolor": "#2a3f5f",
             "gridcolor": "white",
             "linecolor": "white",
             "minorgridcolor": "white",
             "startlinecolor": "#2a3f5f"
            },
            "baxis": {
             "endlinecolor": "#2a3f5f",
             "gridcolor": "white",
             "linecolor": "white",
             "minorgridcolor": "white",
             "startlinecolor": "#2a3f5f"
            },
            "type": "carpet"
           }
          ],
          "choropleth": [
           {
            "colorbar": {
             "outlinewidth": 0,
             "ticks": ""
            },
            "type": "choropleth"
           }
          ],
          "contour": [
           {
            "colorbar": {
             "outlinewidth": 0,
             "ticks": ""
            },
            "colorscale": [
             [
              0,
              "#0d0887"
             ],
             [
              0.1111111111111111,
              "#46039f"
             ],
             [
              0.2222222222222222,
              "#7201a8"
             ],
             [
              0.3333333333333333,
              "#9c179e"
             ],
             [
              0.4444444444444444,
              "#bd3786"
             ],
             [
              0.5555555555555556,
              "#d8576b"
             ],
             [
              0.6666666666666666,
              "#ed7953"
             ],
             [
              0.7777777777777778,
              "#fb9f3a"
             ],
             [
              0.8888888888888888,
              "#fdca26"
             ],
             [
              1,
              "#f0f921"
             ]
            ],
            "type": "contour"
           }
          ],
          "contourcarpet": [
           {
            "colorbar": {
             "outlinewidth": 0,
             "ticks": ""
            },
            "type": "contourcarpet"
           }
          ],
          "heatmap": [
           {
            "colorbar": {
             "outlinewidth": 0,
             "ticks": ""
            },
            "colorscale": [
             [
              0,
              "#0d0887"
             ],
             [
              0.1111111111111111,
              "#46039f"
             ],
             [
              0.2222222222222222,
              "#7201a8"
             ],
             [
              0.3333333333333333,
              "#9c179e"
             ],
             [
              0.4444444444444444,
              "#bd3786"
             ],
             [
              0.5555555555555556,
              "#d8576b"
             ],
             [
              0.6666666666666666,
              "#ed7953"
             ],
             [
              0.7777777777777778,
              "#fb9f3a"
             ],
             [
              0.8888888888888888,
              "#fdca26"
             ],
             [
              1,
              "#f0f921"
             ]
            ],
            "type": "heatmap"
           }
          ],
          "heatmapgl": [
           {
            "colorbar": {
             "outlinewidth": 0,
             "ticks": ""
            },
            "colorscale": [
             [
              0,
              "#0d0887"
             ],
             [
              0.1111111111111111,
              "#46039f"
             ],
             [
              0.2222222222222222,
              "#7201a8"
             ],
             [
              0.3333333333333333,
              "#9c179e"
             ],
             [
              0.4444444444444444,
              "#bd3786"
             ],
             [
              0.5555555555555556,
              "#d8576b"
             ],
             [
              0.6666666666666666,
              "#ed7953"
             ],
             [
              0.7777777777777778,
              "#fb9f3a"
             ],
             [
              0.8888888888888888,
              "#fdca26"
             ],
             [
              1,
              "#f0f921"
             ]
            ],
            "type": "heatmapgl"
           }
          ],
          "histogram": [
           {
            "marker": {
             "pattern": {
              "fillmode": "overlay",
              "size": 10,
              "solidity": 0.2
             }
            },
            "type": "histogram"
           }
          ],
          "histogram2d": [
           {
            "colorbar": {
             "outlinewidth": 0,
             "ticks": ""
            },
            "colorscale": [
             [
              0,
              "#0d0887"
             ],
             [
              0.1111111111111111,
              "#46039f"
             ],
             [
              0.2222222222222222,
              "#7201a8"
             ],
             [
              0.3333333333333333,
              "#9c179e"
             ],
             [
              0.4444444444444444,
              "#bd3786"
             ],
             [
              0.5555555555555556,
              "#d8576b"
             ],
             [
              0.6666666666666666,
              "#ed7953"
             ],
             [
              0.7777777777777778,
              "#fb9f3a"
             ],
             [
              0.8888888888888888,
              "#fdca26"
             ],
             [
              1,
              "#f0f921"
             ]
            ],
            "type": "histogram2d"
           }
          ],
          "histogram2dcontour": [
           {
            "colorbar": {
             "outlinewidth": 0,
             "ticks": ""
            },
            "colorscale": [
             [
              0,
              "#0d0887"
             ],
             [
              0.1111111111111111,
              "#46039f"
             ],
             [
              0.2222222222222222,
              "#7201a8"
             ],
             [
              0.3333333333333333,
              "#9c179e"
             ],
             [
              0.4444444444444444,
              "#bd3786"
             ],
             [
              0.5555555555555556,
              "#d8576b"
             ],
             [
              0.6666666666666666,
              "#ed7953"
             ],
             [
              0.7777777777777778,
              "#fb9f3a"
             ],
             [
              0.8888888888888888,
              "#fdca26"
             ],
             [
              1,
              "#f0f921"
             ]
            ],
            "type": "histogram2dcontour"
           }
          ],
          "mesh3d": [
           {
            "colorbar": {
             "outlinewidth": 0,
             "ticks": ""
            },
            "type": "mesh3d"
           }
          ],
          "parcoords": [
           {
            "line": {
             "colorbar": {
              "outlinewidth": 0,
              "ticks": ""
             }
            },
            "type": "parcoords"
           }
          ],
          "pie": [
           {
            "automargin": true,
            "type": "pie"
           }
          ],
          "scatter": [
           {
            "fillpattern": {
             "fillmode": "overlay",
             "size": 10,
             "solidity": 0.2
            },
            "type": "scatter"
           }
          ],
          "scatter3d": [
           {
            "line": {
             "colorbar": {
              "outlinewidth": 0,
              "ticks": ""
             }
            },
            "marker": {
             "colorbar": {
              "outlinewidth": 0,
              "ticks": ""
             }
            },
            "type": "scatter3d"
           }
          ],
          "scattercarpet": [
           {
            "marker": {
             "colorbar": {
              "outlinewidth": 0,
              "ticks": ""
             }
            },
            "type": "scattercarpet"
           }
          ],
          "scattergeo": [
           {
            "marker": {
             "colorbar": {
              "outlinewidth": 0,
              "ticks": ""
             }
            },
            "type": "scattergeo"
           }
          ],
          "scattergl": [
           {
            "marker": {
             "colorbar": {
              "outlinewidth": 0,
              "ticks": ""
             }
            },
            "type": "scattergl"
           }
          ],
          "scattermapbox": [
           {
            "marker": {
             "colorbar": {
              "outlinewidth": 0,
              "ticks": ""
             }
            },
            "type": "scattermapbox"
           }
          ],
          "scatterpolar": [
           {
            "marker": {
             "colorbar": {
              "outlinewidth": 0,
              "ticks": ""
             }
            },
            "type": "scatterpolar"
           }
          ],
          "scatterpolargl": [
           {
            "marker": {
             "colorbar": {
              "outlinewidth": 0,
              "ticks": ""
             }
            },
            "type": "scatterpolargl"
           }
          ],
          "scatterternary": [
           {
            "marker": {
             "colorbar": {
              "outlinewidth": 0,
              "ticks": ""
             }
            },
            "type": "scatterternary"
           }
          ],
          "surface": [
           {
            "colorbar": {
             "outlinewidth": 0,
             "ticks": ""
            },
            "colorscale": [
             [
              0,
              "#0d0887"
             ],
             [
              0.1111111111111111,
              "#46039f"
             ],
             [
              0.2222222222222222,
              "#7201a8"
             ],
             [
              0.3333333333333333,
              "#9c179e"
             ],
             [
              0.4444444444444444,
              "#bd3786"
             ],
             [
              0.5555555555555556,
              "#d8576b"
             ],
             [
              0.6666666666666666,
              "#ed7953"
             ],
             [
              0.7777777777777778,
              "#fb9f3a"
             ],
             [
              0.8888888888888888,
              "#fdca26"
             ],
             [
              1,
              "#f0f921"
             ]
            ],
            "type": "surface"
           }
          ],
          "table": [
           {
            "cells": {
             "fill": {
              "color": "#EBF0F8"
             },
             "line": {
              "color": "white"
             }
            },
            "header": {
             "fill": {
              "color": "#C8D4E3"
             },
             "line": {
              "color": "white"
             }
            },
            "type": "table"
           }
          ]
         },
         "layout": {
          "annotationdefaults": {
           "arrowcolor": "#2a3f5f",
           "arrowhead": 0,
           "arrowwidth": 1
          },
          "autotypenumbers": "strict",
          "coloraxis": {
           "colorbar": {
            "outlinewidth": 0,
            "ticks": ""
           }
          },
          "colorscale": {
           "diverging": [
            [
             0,
             "#8e0152"
            ],
            [
             0.1,
             "#c51b7d"
            ],
            [
             0.2,
             "#de77ae"
            ],
            [
             0.3,
             "#f1b6da"
            ],
            [
             0.4,
             "#fde0ef"
            ],
            [
             0.5,
             "#f7f7f7"
            ],
            [
             0.6,
             "#e6f5d0"
            ],
            [
             0.7,
             "#b8e186"
            ],
            [
             0.8,
             "#7fbc41"
            ],
            [
             0.9,
             "#4d9221"
            ],
            [
             1,
             "#276419"
            ]
           ],
           "sequential": [
            [
             0,
             "#0d0887"
            ],
            [
             0.1111111111111111,
             "#46039f"
            ],
            [
             0.2222222222222222,
             "#7201a8"
            ],
            [
             0.3333333333333333,
             "#9c179e"
            ],
            [
             0.4444444444444444,
             "#bd3786"
            ],
            [
             0.5555555555555556,
             "#d8576b"
            ],
            [
             0.6666666666666666,
             "#ed7953"
            ],
            [
             0.7777777777777778,
             "#fb9f3a"
            ],
            [
             0.8888888888888888,
             "#fdca26"
            ],
            [
             1,
             "#f0f921"
            ]
           ],
           "sequentialminus": [
            [
             0,
             "#0d0887"
            ],
            [
             0.1111111111111111,
             "#46039f"
            ],
            [
             0.2222222222222222,
             "#7201a8"
            ],
            [
             0.3333333333333333,
             "#9c179e"
            ],
            [
             0.4444444444444444,
             "#bd3786"
            ],
            [
             0.5555555555555556,
             "#d8576b"
            ],
            [
             0.6666666666666666,
             "#ed7953"
            ],
            [
             0.7777777777777778,
             "#fb9f3a"
            ],
            [
             0.8888888888888888,
             "#fdca26"
            ],
            [
             1,
             "#f0f921"
            ]
           ]
          },
          "colorway": [
           "#636efa",
           "#EF553B",
           "#00cc96",
           "#ab63fa",
           "#FFA15A",
           "#19d3f3",
           "#FF6692",
           "#B6E880",
           "#FF97FF",
           "#FECB52"
          ],
          "font": {
           "color": "#2a3f5f"
          },
          "geo": {
           "bgcolor": "white",
           "lakecolor": "white",
           "landcolor": "#E5ECF6",
           "showlakes": true,
           "showland": true,
           "subunitcolor": "white"
          },
          "hoverlabel": {
           "align": "left"
          },
          "hovermode": "closest",
          "mapbox": {
           "style": "light"
          },
          "paper_bgcolor": "white",
          "plot_bgcolor": "#E5ECF6",
          "polar": {
           "angularaxis": {
            "gridcolor": "white",
            "linecolor": "white",
            "ticks": ""
           },
           "bgcolor": "#E5ECF6",
           "radialaxis": {
            "gridcolor": "white",
            "linecolor": "white",
            "ticks": ""
           }
          },
          "scene": {
           "xaxis": {
            "backgroundcolor": "#E5ECF6",
            "gridcolor": "white",
            "gridwidth": 2,
            "linecolor": "white",
            "showbackground": true,
            "ticks": "",
            "zerolinecolor": "white"
           },
           "yaxis": {
            "backgroundcolor": "#E5ECF6",
            "gridcolor": "white",
            "gridwidth": 2,
            "linecolor": "white",
            "showbackground": true,
            "ticks": "",
            "zerolinecolor": "white"
           },
           "zaxis": {
            "backgroundcolor": "#E5ECF6",
            "gridcolor": "white",
            "gridwidth": 2,
            "linecolor": "white",
            "showbackground": true,
            "ticks": "",
            "zerolinecolor": "white"
           }
          },
          "shapedefaults": {
           "line": {
            "color": "#2a3f5f"
           }
          },
          "ternary": {
           "aaxis": {
            "gridcolor": "white",
            "linecolor": "white",
            "ticks": ""
           },
           "baxis": {
            "gridcolor": "white",
            "linecolor": "white",
            "ticks": ""
           },
           "bgcolor": "#E5ECF6",
           "caxis": {
            "gridcolor": "white",
            "linecolor": "white",
            "ticks": ""
           }
          },
          "title": {
           "x": 0.05
          },
          "xaxis": {
           "automargin": true,
           "gridcolor": "white",
           "linecolor": "white",
           "ticks": "",
           "title": {
            "standoff": 15
           },
           "zerolinecolor": "white",
           "zerolinewidth": 2
          },
          "yaxis": {
           "automargin": true,
           "gridcolor": "white",
           "linecolor": "white",
           "ticks": "",
           "title": {
            "standoff": 15
           },
           "zerolinecolor": "white",
           "zerolinewidth": 2
          }
         }
        },
        "title": {
         "text": "<i><b>Confusion matrix</b></i>"
        },
        "xaxis": {
         "dtick": 1,
         "gridcolor": "rgb(0, 0, 0)",
         "side": "top",
         "ticks": ""
        },
        "yaxis": {
         "dtick": 1,
         "ticks": "",
         "ticksuffix": "  "
        }
       }
      },
      "text/html": [
       "<div>                            <div id=\"69e951cb-afb6-4880-9258-7a857b09ff7e\" class=\"plotly-graph-div\" style=\"height:525px; width:100%;\"></div>            <script type=\"text/javascript\">                require([\"plotly\"], function(Plotly) {                    window.PLOTLYENV=window.PLOTLYENV || {};                                    if (document.getElementById(\"69e951cb-afb6-4880-9258-7a857b09ff7e\")) {                    Plotly.newPlot(                        \"69e951cb-afb6-4880-9258-7a857b09ff7e\",                        [{\"colorscale\":[[0.0,\"#440154\"],[0.1111111111111111,\"#482878\"],[0.2222222222222222,\"#3e4989\"],[0.3333333333333333,\"#31688e\"],[0.4444444444444444,\"#26828e\"],[0.5555555555555556,\"#1f9e89\"],[0.6666666666666666,\"#35b779\"],[0.7777777777777778,\"#6ece58\"],[0.8888888888888888,\"#b5de2b\"],[1.0,\"#fde725\"]],\"reversescale\":false,\"showscale\":true,\"x\":[1,2,3,4],\"y\":[1,2,3,4],\"z\":[[19,14,17,16],[14,12,24,16],[13,18,21,14],[12,24,15,14]],\"type\":\"heatmap\"}],                        {\"annotations\":[{\"font\":{\"color\":\"#000000\"},\"showarrow\":false,\"text\":\"19\",\"x\":1,\"xref\":\"x\",\"y\":1,\"yref\":\"y\"},{\"font\":{\"color\":\"#FFFFFF\"},\"showarrow\":false,\"text\":\"14\",\"x\":2,\"xref\":\"x\",\"y\":1,\"yref\":\"y\"},{\"font\":{\"color\":\"#FFFFFF\"},\"showarrow\":false,\"text\":\"17\",\"x\":3,\"xref\":\"x\",\"y\":1,\"yref\":\"y\"},{\"font\":{\"color\":\"#FFFFFF\"},\"showarrow\":false,\"text\":\"16\",\"x\":4,\"xref\":\"x\",\"y\":1,\"yref\":\"y\"},{\"font\":{\"color\":\"#FFFFFF\"},\"showarrow\":false,\"text\":\"14\",\"x\":1,\"xref\":\"x\",\"y\":2,\"yref\":\"y\"},{\"font\":{\"color\":\"#FFFFFF\"},\"showarrow\":false,\"text\":\"12\",\"x\":2,\"xref\":\"x\",\"y\":2,\"yref\":\"y\"},{\"font\":{\"color\":\"#000000\"},\"showarrow\":false,\"text\":\"24\",\"x\":3,\"xref\":\"x\",\"y\":2,\"yref\":\"y\"},{\"font\":{\"color\":\"#FFFFFF\"},\"showarrow\":false,\"text\":\"16\",\"x\":4,\"xref\":\"x\",\"y\":2,\"yref\":\"y\"},{\"font\":{\"color\":\"#FFFFFF\"},\"showarrow\":false,\"text\":\"13\",\"x\":1,\"xref\":\"x\",\"y\":3,\"yref\":\"y\"},{\"font\":{\"color\":\"#000000\"},\"showarrow\":false,\"text\":\"18\",\"x\":2,\"xref\":\"x\",\"y\":3,\"yref\":\"y\"},{\"font\":{\"color\":\"#000000\"},\"showarrow\":false,\"text\":\"21\",\"x\":3,\"xref\":\"x\",\"y\":3,\"yref\":\"y\"},{\"font\":{\"color\":\"#FFFFFF\"},\"showarrow\":false,\"text\":\"14\",\"x\":4,\"xref\":\"x\",\"y\":3,\"yref\":\"y\"},{\"font\":{\"color\":\"#FFFFFF\"},\"showarrow\":false,\"text\":\"12\",\"x\":1,\"xref\":\"x\",\"y\":4,\"yref\":\"y\"},{\"font\":{\"color\":\"#000000\"},\"showarrow\":false,\"text\":\"24\",\"x\":2,\"xref\":\"x\",\"y\":4,\"yref\":\"y\"},{\"font\":{\"color\":\"#FFFFFF\"},\"showarrow\":false,\"text\":\"15\",\"x\":3,\"xref\":\"x\",\"y\":4,\"yref\":\"y\"},{\"font\":{\"color\":\"#FFFFFF\"},\"showarrow\":false,\"text\":\"14\",\"x\":4,\"xref\":\"x\",\"y\":4,\"yref\":\"y\"},{\"font\":{\"color\":\"black\",\"size\":14},\"showarrow\":false,\"text\":\"Predicted value\",\"x\":0.5,\"xref\":\"paper\",\"y\":-0.15,\"yref\":\"paper\"},{\"font\":{\"color\":\"black\",\"size\":14},\"showarrow\":false,\"text\":\"Actual value\",\"textangle\":-90,\"x\":-0.35,\"xref\":\"paper\",\"y\":0.5,\"yref\":\"paper\"}],\"xaxis\":{\"dtick\":1,\"gridcolor\":\"rgb(0, 0, 0)\",\"side\":\"top\",\"ticks\":\"\"},\"yaxis\":{\"dtick\":1,\"ticks\":\"\",\"ticksuffix\":\"  \"},\"template\":{\"data\":{\"histogram2dcontour\":[{\"type\":\"histogram2dcontour\",\"colorbar\":{\"outlinewidth\":0,\"ticks\":\"\"},\"colorscale\":[[0.0,\"#0d0887\"],[0.1111111111111111,\"#46039f\"],[0.2222222222222222,\"#7201a8\"],[0.3333333333333333,\"#9c179e\"],[0.4444444444444444,\"#bd3786\"],[0.5555555555555556,\"#d8576b\"],[0.6666666666666666,\"#ed7953\"],[0.7777777777777778,\"#fb9f3a\"],[0.8888888888888888,\"#fdca26\"],[1.0,\"#f0f921\"]]}],\"choropleth\":[{\"type\":\"choropleth\",\"colorbar\":{\"outlinewidth\":0,\"ticks\":\"\"}}],\"histogram2d\":[{\"type\":\"histogram2d\",\"colorbar\":{\"outlinewidth\":0,\"ticks\":\"\"},\"colorscale\":[[0.0,\"#0d0887\"],[0.1111111111111111,\"#46039f\"],[0.2222222222222222,\"#7201a8\"],[0.3333333333333333,\"#9c179e\"],[0.4444444444444444,\"#bd3786\"],[0.5555555555555556,\"#d8576b\"],[0.6666666666666666,\"#ed7953\"],[0.7777777777777778,\"#fb9f3a\"],[0.8888888888888888,\"#fdca26\"],[1.0,\"#f0f921\"]]}],\"heatmap\":[{\"type\":\"heatmap\",\"colorbar\":{\"outlinewidth\":0,\"ticks\":\"\"},\"colorscale\":[[0.0,\"#0d0887\"],[0.1111111111111111,\"#46039f\"],[0.2222222222222222,\"#7201a8\"],[0.3333333333333333,\"#9c179e\"],[0.4444444444444444,\"#bd3786\"],[0.5555555555555556,\"#d8576b\"],[0.6666666666666666,\"#ed7953\"],[0.7777777777777778,\"#fb9f3a\"],[0.8888888888888888,\"#fdca26\"],[1.0,\"#f0f921\"]]}],\"heatmapgl\":[{\"type\":\"heatmapgl\",\"colorbar\":{\"outlinewidth\":0,\"ticks\":\"\"},\"colorscale\":[[0.0,\"#0d0887\"],[0.1111111111111111,\"#46039f\"],[0.2222222222222222,\"#7201a8\"],[0.3333333333333333,\"#9c179e\"],[0.4444444444444444,\"#bd3786\"],[0.5555555555555556,\"#d8576b\"],[0.6666666666666666,\"#ed7953\"],[0.7777777777777778,\"#fb9f3a\"],[0.8888888888888888,\"#fdca26\"],[1.0,\"#f0f921\"]]}],\"contourcarpet\":[{\"type\":\"contourcarpet\",\"colorbar\":{\"outlinewidth\":0,\"ticks\":\"\"}}],\"contour\":[{\"type\":\"contour\",\"colorbar\":{\"outlinewidth\":0,\"ticks\":\"\"},\"colorscale\":[[0.0,\"#0d0887\"],[0.1111111111111111,\"#46039f\"],[0.2222222222222222,\"#7201a8\"],[0.3333333333333333,\"#9c179e\"],[0.4444444444444444,\"#bd3786\"],[0.5555555555555556,\"#d8576b\"],[0.6666666666666666,\"#ed7953\"],[0.7777777777777778,\"#fb9f3a\"],[0.8888888888888888,\"#fdca26\"],[1.0,\"#f0f921\"]]}],\"surface\":[{\"type\":\"surface\",\"colorbar\":{\"outlinewidth\":0,\"ticks\":\"\"},\"colorscale\":[[0.0,\"#0d0887\"],[0.1111111111111111,\"#46039f\"],[0.2222222222222222,\"#7201a8\"],[0.3333333333333333,\"#9c179e\"],[0.4444444444444444,\"#bd3786\"],[0.5555555555555556,\"#d8576b\"],[0.6666666666666666,\"#ed7953\"],[0.7777777777777778,\"#fb9f3a\"],[0.8888888888888888,\"#fdca26\"],[1.0,\"#f0f921\"]]}],\"mesh3d\":[{\"type\":\"mesh3d\",\"colorbar\":{\"outlinewidth\":0,\"ticks\":\"\"}}],\"scatter\":[{\"fillpattern\":{\"fillmode\":\"overlay\",\"size\":10,\"solidity\":0.2},\"type\":\"scatter\"}],\"parcoords\":[{\"type\":\"parcoords\",\"line\":{\"colorbar\":{\"outlinewidth\":0,\"ticks\":\"\"}}}],\"scatterpolargl\":[{\"type\":\"scatterpolargl\",\"marker\":{\"colorbar\":{\"outlinewidth\":0,\"ticks\":\"\"}}}],\"bar\":[{\"error_x\":{\"color\":\"#2a3f5f\"},\"error_y\":{\"color\":\"#2a3f5f\"},\"marker\":{\"line\":{\"color\":\"#E5ECF6\",\"width\":0.5},\"pattern\":{\"fillmode\":\"overlay\",\"size\":10,\"solidity\":0.2}},\"type\":\"bar\"}],\"scattergeo\":[{\"type\":\"scattergeo\",\"marker\":{\"colorbar\":{\"outlinewidth\":0,\"ticks\":\"\"}}}],\"scatterpolar\":[{\"type\":\"scatterpolar\",\"marker\":{\"colorbar\":{\"outlinewidth\":0,\"ticks\":\"\"}}}],\"histogram\":[{\"marker\":{\"pattern\":{\"fillmode\":\"overlay\",\"size\":10,\"solidity\":0.2}},\"type\":\"histogram\"}],\"scattergl\":[{\"type\":\"scattergl\",\"marker\":{\"colorbar\":{\"outlinewidth\":0,\"ticks\":\"\"}}}],\"scatter3d\":[{\"type\":\"scatter3d\",\"line\":{\"colorbar\":{\"outlinewidth\":0,\"ticks\":\"\"}},\"marker\":{\"colorbar\":{\"outlinewidth\":0,\"ticks\":\"\"}}}],\"scattermapbox\":[{\"type\":\"scattermapbox\",\"marker\":{\"colorbar\":{\"outlinewidth\":0,\"ticks\":\"\"}}}],\"scatterternary\":[{\"type\":\"scatterternary\",\"marker\":{\"colorbar\":{\"outlinewidth\":0,\"ticks\":\"\"}}}],\"scattercarpet\":[{\"type\":\"scattercarpet\",\"marker\":{\"colorbar\":{\"outlinewidth\":0,\"ticks\":\"\"}}}],\"carpet\":[{\"aaxis\":{\"endlinecolor\":\"#2a3f5f\",\"gridcolor\":\"white\",\"linecolor\":\"white\",\"minorgridcolor\":\"white\",\"startlinecolor\":\"#2a3f5f\"},\"baxis\":{\"endlinecolor\":\"#2a3f5f\",\"gridcolor\":\"white\",\"linecolor\":\"white\",\"minorgridcolor\":\"white\",\"startlinecolor\":\"#2a3f5f\"},\"type\":\"carpet\"}],\"table\":[{\"cells\":{\"fill\":{\"color\":\"#EBF0F8\"},\"line\":{\"color\":\"white\"}},\"header\":{\"fill\":{\"color\":\"#C8D4E3\"},\"line\":{\"color\":\"white\"}},\"type\":\"table\"}],\"barpolar\":[{\"marker\":{\"line\":{\"color\":\"#E5ECF6\",\"width\":0.5},\"pattern\":{\"fillmode\":\"overlay\",\"size\":10,\"solidity\":0.2}},\"type\":\"barpolar\"}],\"pie\":[{\"automargin\":true,\"type\":\"pie\"}]},\"layout\":{\"autotypenumbers\":\"strict\",\"colorway\":[\"#636efa\",\"#EF553B\",\"#00cc96\",\"#ab63fa\",\"#FFA15A\",\"#19d3f3\",\"#FF6692\",\"#B6E880\",\"#FF97FF\",\"#FECB52\"],\"font\":{\"color\":\"#2a3f5f\"},\"hovermode\":\"closest\",\"hoverlabel\":{\"align\":\"left\"},\"paper_bgcolor\":\"white\",\"plot_bgcolor\":\"#E5ECF6\",\"polar\":{\"bgcolor\":\"#E5ECF6\",\"angularaxis\":{\"gridcolor\":\"white\",\"linecolor\":\"white\",\"ticks\":\"\"},\"radialaxis\":{\"gridcolor\":\"white\",\"linecolor\":\"white\",\"ticks\":\"\"}},\"ternary\":{\"bgcolor\":\"#E5ECF6\",\"aaxis\":{\"gridcolor\":\"white\",\"linecolor\":\"white\",\"ticks\":\"\"},\"baxis\":{\"gridcolor\":\"white\",\"linecolor\":\"white\",\"ticks\":\"\"},\"caxis\":{\"gridcolor\":\"white\",\"linecolor\":\"white\",\"ticks\":\"\"}},\"coloraxis\":{\"colorbar\":{\"outlinewidth\":0,\"ticks\":\"\"}},\"colorscale\":{\"sequential\":[[0.0,\"#0d0887\"],[0.1111111111111111,\"#46039f\"],[0.2222222222222222,\"#7201a8\"],[0.3333333333333333,\"#9c179e\"],[0.4444444444444444,\"#bd3786\"],[0.5555555555555556,\"#d8576b\"],[0.6666666666666666,\"#ed7953\"],[0.7777777777777778,\"#fb9f3a\"],[0.8888888888888888,\"#fdca26\"],[1.0,\"#f0f921\"]],\"sequentialminus\":[[0.0,\"#0d0887\"],[0.1111111111111111,\"#46039f\"],[0.2222222222222222,\"#7201a8\"],[0.3333333333333333,\"#9c179e\"],[0.4444444444444444,\"#bd3786\"],[0.5555555555555556,\"#d8576b\"],[0.6666666666666666,\"#ed7953\"],[0.7777777777777778,\"#fb9f3a\"],[0.8888888888888888,\"#fdca26\"],[1.0,\"#f0f921\"]],\"diverging\":[[0,\"#8e0152\"],[0.1,\"#c51b7d\"],[0.2,\"#de77ae\"],[0.3,\"#f1b6da\"],[0.4,\"#fde0ef\"],[0.5,\"#f7f7f7\"],[0.6,\"#e6f5d0\"],[0.7,\"#b8e186\"],[0.8,\"#7fbc41\"],[0.9,\"#4d9221\"],[1,\"#276419\"]]},\"xaxis\":{\"gridcolor\":\"white\",\"linecolor\":\"white\",\"ticks\":\"\",\"title\":{\"standoff\":15},\"zerolinecolor\":\"white\",\"automargin\":true,\"zerolinewidth\":2},\"yaxis\":{\"gridcolor\":\"white\",\"linecolor\":\"white\",\"ticks\":\"\",\"title\":{\"standoff\":15},\"zerolinecolor\":\"white\",\"automargin\":true,\"zerolinewidth\":2},\"scene\":{\"xaxis\":{\"backgroundcolor\":\"#E5ECF6\",\"gridcolor\":\"white\",\"linecolor\":\"white\",\"showbackground\":true,\"ticks\":\"\",\"zerolinecolor\":\"white\",\"gridwidth\":2},\"yaxis\":{\"backgroundcolor\":\"#E5ECF6\",\"gridcolor\":\"white\",\"linecolor\":\"white\",\"showbackground\":true,\"ticks\":\"\",\"zerolinecolor\":\"white\",\"gridwidth\":2},\"zaxis\":{\"backgroundcolor\":\"#E5ECF6\",\"gridcolor\":\"white\",\"linecolor\":\"white\",\"showbackground\":true,\"ticks\":\"\",\"zerolinecolor\":\"white\",\"gridwidth\":2}},\"shapedefaults\":{\"line\":{\"color\":\"#2a3f5f\"}},\"annotationdefaults\":{\"arrowcolor\":\"#2a3f5f\",\"arrowhead\":0,\"arrowwidth\":1},\"geo\":{\"bgcolor\":\"white\",\"landcolor\":\"#E5ECF6\",\"subunitcolor\":\"white\",\"showland\":true,\"showlakes\":true,\"lakecolor\":\"white\"},\"title\":{\"x\":0.05},\"mapbox\":{\"style\":\"light\"}}},\"title\":{\"text\":\"<i><b>Confusion matrix</b></i>\"},\"margin\":{\"t\":50,\"l\":200}},                        {\"responsive\": true}                    ).then(function(){\n",
       "                            \n",
       "var gd = document.getElementById('69e951cb-afb6-4880-9258-7a857b09ff7e');\n",
       "var x = new MutationObserver(function (mutations, observer) {{\n",
       "        var display = window.getComputedStyle(gd).display;\n",
       "        if (!display || display === 'none') {{\n",
       "            console.log([gd, 'removed!']);\n",
       "            Plotly.purge(gd);\n",
       "            observer.disconnect();\n",
       "        }}\n",
       "}});\n",
       "\n",
       "// Listen for the removal of the full notebook cells\n",
       "var notebookContainer = gd.closest('#notebook-container');\n",
       "if (notebookContainer) {{\n",
       "    x.observe(notebookContainer, {childList: true});\n",
       "}}\n",
       "\n",
       "// Listen for the clearing of the current output cell\n",
       "var outputEl = gd.closest('.output');\n",
       "if (outputEl) {{\n",
       "    x.observe(outputEl, {childList: true});\n",
       "}}\n",
       "\n",
       "                        })                };                });            </script>        </div>"
      ]
     },
     "metadata": {},
     "output_type": "display_data"
    }
   ],
   "source": [
    "import plotly.figure_factory as ff\n",
    "# invert z idx values\n",
    "\n",
    "z= cm\n",
    "\n",
    "# invert z idx values\n",
    "#z = z[::-1]\n",
    "\n",
    "#abnormal, normal\n",
    "x= [1,2,3,4]\n",
    "y1=x\n",
    "#y =x[::-1].copy() # invert idx values of x\n",
    "#print(y)\n",
    "#y=x\n",
    "# change each element of z to type string for annotations\n",
    "z_text = [[str(y1) for y1 in x] for x in z]\n",
    "\n",
    "# set up figure\n",
    "fig = ff.create_annotated_heatmap(z, x=x, y=y1, annotation_text=z_text, colorscale='Viridis')\n",
    "\n",
    "# add title\n",
    "fig.update_layout(title_text='<i><b>Confusion matrix</b></i>',\n",
    "                  #xaxis = dict(title='x'),\n",
    "                  #yaxis = dict(title='x')\n",
    "                 )\n",
    "\n",
    "# add custom xaxis title\n",
    "fig.add_annotation(dict(font=dict(color=\"black\",size=14),\n",
    "                        x=0.5,\n",
    "                        y=-0.15,\n",
    "                        showarrow=False,\n",
    "                        text=\"Predicted value\",\n",
    "                        xref=\"paper\",\n",
    "                        yref=\"paper\"))\n",
    "\n",
    "# add custom yaxis title\n",
    "fig.add_annotation(dict(font=dict(color=\"black\",size=14),\n",
    "                        x=-0.35,\n",
    "                        y=0.5,\n",
    "                        showarrow=False,\n",
    "                        text=\"Actual value\",\n",
    "                        textangle=-90,\n",
    "                        xref=\"paper\",\n",
    "                        yref=\"paper\"))\n",
    "\n",
    "# adjust margins to make room for yaxis title\n",
    "fig.update_layout(margin=dict(t=50, l=200))\n",
    "\n",
    "# add colorbar\n",
    "fig['data'][0]['showscale'] = True\n",
    "fig.show()"
   ]
  },
  {
   "cell_type": "code",
   "execution_count": 39,
   "id": "e4f22b31",
   "metadata": {
    "id": "e4f22b31"
   },
   "outputs": [
    {
     "name": "stdout",
     "output_type": "stream",
     "text": [
      "Test results1 - Loss: 4.7555413246154785 - Accuracy: 0.26615968346595764%\n"
     ]
    }
   ],
   "source": [
    "# evaluate model\n",
    "Xt = Xt.reshape((Xt.shape[0], n_steps, n_length, n_features))\n",
    "test_results1= model.evaluate(Xt, yt, batch_size=batch_size, verbose=0)\n",
    "print(f'Test results1 - Loss: {test_results1[0]} - Accuracy: {test_results1[1]}%')\n",
    "#print(test_results)"
   ]
  },
  {
   "cell_type": "code",
   "execution_count": null,
   "id": "f0c06271",
   "metadata": {},
   "outputs": [],
   "source": []
  }
 ],
 "metadata": {
  "accelerator": "GPU",
  "colab": {
   "gpuType": "T4",
   "provenance": []
  },
  "kernelspec": {
   "display_name": "Python 3 (ipykernel)",
   "language": "python",
   "name": "python3"
  },
  "language_info": {
   "codemirror_mode": {
    "name": "ipython",
    "version": 3
   },
   "file_extension": ".py",
   "mimetype": "text/x-python",
   "name": "python",
   "nbconvert_exporter": "python",
   "pygments_lexer": "ipython3",
   "version": "3.10.9"
  }
 },
 "nbformat": 4,
 "nbformat_minor": 5
}
